{
  "nbformat": 4,
  "nbformat_minor": 0,
  "metadata": {
    "colab": {
      "name": "Isabel_Domínguez_Portafolio.ipynb",
      "provenance": [],
      "collapsed_sections": [
        "XEjnLd6emSqK",
        "M4ZQSzDzsEkg",
        "5J5G5WiFEnyf",
        "55VvvU7rbCGp",
        "g2Uw4yn-XkaC",
        "go3ctm-ccuU4",
        "dA6qY0pbg2Gs",
        "ehunNQnAtdMR",
        "wtdzR2-EBFH-",
        "8iaEOr_Gof0P",
        "9uDc6i7WdXvk",
        "xGr6s3l2ulJP",
        "tT_8hEbJlfG1",
        "a1lDNgifVLAn",
        "Vkr50H2CFuM2",
        "Xy2V-PgUzRBP",
        "UCIFdVt-xbOl",
        "r_6KNGrh9tR5",
        "4Kgit8xUCc6W",
        "V6O9X9IxPxry",
        "DxWz-JT5EV1f",
        "-8ehxCtvytAA",
        "ceSts162XuwO",
        "K4ZDXF-tu_fC"
      ],
      "toc_visible": true
    },
    "kernelspec": {
      "name": "python3",
      "display_name": "Python 3"
    }
  },
  "cells": [
    {
      "cell_type": "markdown",
      "metadata": {
        "id": "PBVW_XF-DScR"
      },
      "source": [
        "# Prueba de seccion"
      ]
    },
    {
      "cell_type": "code",
      "metadata": {
        "id": "F6_w-MahoatU",
        "colab": {
          "base_uri": "https://localhost:8080/"
        },
        "outputId": "d87b86c4-4ffa-426e-8ac4-73f1b2d1d2a3"
      },
      "source": [
        "print(\"Hola Mundo\")"
      ],
      "execution_count": null,
      "outputs": [
        {
          "output_type": "stream",
          "text": [
            "Hola Mundo\n"
          ],
          "name": "stdout"
        }
      ]
    },
    {
      "cell_type": "markdown",
      "metadata": {
        "id": "XEjnLd6emSqK"
      },
      "source": [
        "# Ejemplos de Python Primer"
      ]
    },
    {
      "cell_type": "markdown",
      "metadata": {
        "id": "Qe2KAn6loUmY"
      },
      "source": [
        ""
      ]
    },
    {
      "cell_type": "code",
      "metadata": {
        "id": "EuXwom4cRLs8",
        "colab": {
          "base_uri": "https://localhost:8080/",
          "height": 131
        },
        "outputId": "626b740d-3d06-4df4-cdc8-4bd3f5179c5d"
      },
      "source": [
        "print \"Hello World\""
      ],
      "execution_count": null,
      "outputs": [
        {
          "output_type": "error",
          "ename": "SyntaxError",
          "evalue": "ignored",
          "traceback": [
            "\u001b[0;36m  File \u001b[0;32m\"<ipython-input-4-2e860ebf713e>\"\u001b[0;36m, line \u001b[0;32m1\u001b[0m\n\u001b[0;31m    print \"Hello World\"\u001b[0m\n\u001b[0m                      ^\u001b[0m\n\u001b[0;31mSyntaxError\u001b[0m\u001b[0;31m:\u001b[0m Missing parentheses in call to 'print'. Did you mean print(\"Hello World\")?\n"
          ]
        }
      ]
    },
    {
      "cell_type": "code",
      "metadata": {
        "id": "-bWkSMhomggj"
      },
      "source": [
        "print (\"Hello World\")"
      ],
      "execution_count": null,
      "outputs": []
    },
    {
      "cell_type": "code",
      "metadata": {
        "id": "zXFuFW-bmw6g"
      },
      "source": [
        "print (0 + 5*0.6 - 1/2*9.81*0.6**2)"
      ],
      "execution_count": null,
      "outputs": []
    },
    {
      "cell_type": "code",
      "metadata": {
        "id": "77Ie25hEph53"
      },
      "source": [
        "v0 = 5\n",
        "g = 9.81\n",
        "t = 0.6\n",
        "y = v0*t - 0.5*g*t**2\n",
        "print (y)"
      ],
      "execution_count": null,
      "outputs": []
    },
    {
      "cell_type": "code",
      "metadata": {
        "id": "7vpeRZOxvlNS"
      },
      "source": [
        "# Programa para calcular la altura de una pelota en movimiento vertical\n",
        "v0 = 5 #velocidad inicial\n",
        "g = 9.81 #aceleracion de la gravedad\n",
        "t = 0.6 #tiempo \n",
        "y = v0*t - 0.5*g*t**2 #expresion de la cinematica\n",
        "print (y)"
      ],
      "execution_count": null,
      "outputs": []
    },
    {
      "cell_type": "code",
      "metadata": {
        "id": "Sv64wHtyZnV8"
      },
      "source": [
        "# Programa para calcular la altura de una pelota en movimiento vertical\n",
        "v0 = 5 #velocidad inicial\n",
        "g = 9.81 #aceleracion de la gravedad\n",
        "t = 0.6 #tiempo \n",
        "y = v0*t - 0.5*g*t**2 #expresion de la cinematica\n",
        "# una manera de imprimir el resultado es\n",
        "print('En t=%g s, la altura de la pelota es %.2f m.' % (t, y))\n",
        "# otra manera de reportar el resultado es\n",
        "print(\"En t={0} s, la altura de la pelota es {1} m.\" .format(t, y))\n",
        "#una ultima\n",
        "print(f'En t={t} s, la altura de la pelota es {y} m.')"
      ],
      "execution_count": null,
      "outputs": []
    },
    {
      "cell_type": "code",
      "metadata": {
        "id": "JAanBTnObBvd"
      },
      "source": [
        "import math\n",
        "print('The value of pi is approximately %5.3f.' % math.pi)"
      ],
      "execution_count": null,
      "outputs": []
    },
    {
      "cell_type": "code",
      "metadata": {
        "id": "2vbJc3G8hOoF"
      },
      "source": [
        "C = 21\n",
        "F = (9/5)*C + 32\n",
        "print (F)"
      ],
      "execution_count": null,
      "outputs": []
    },
    {
      "cell_type": "code",
      "metadata": {
        "id": "F6suUBc7rH8b"
      },
      "source": [
        "v0 = 5\n",
        "g = 9.81\n",
        "yc = 0.2\n",
        "import math\n",
        "t1 = (v0 - math.sqrt(v0**2 - 2*g*yc))/g\n",
        "t2 = (v0 + math.sqrt(v0**2 - 2*g*yc))/g\n",
        "print ('En t=%g s y %g s, la altura de la pelota es %g m.' % (t1,t2,yc))"
      ],
      "execution_count": null,
      "outputs": []
    },
    {
      "cell_type": "code",
      "metadata": {
        "id": "pwICnGVEyZ0C"
      },
      "source": [
        "v0 = 5\n",
        "g = 9.81\n",
        "yc = 0.2\n",
        "from math import sqrt\n",
        "t1 = (v0 - sqrt(v0**2 - 2*g*yc))/g\n",
        "t2 = (v0 + sqrt(v0**2 - 2*g*yc))/g\n",
        "print ('En t=%g s y %g s, la altura de la pelota es %g m.' % (t1,t2,yc))"
      ],
      "execution_count": null,
      "outputs": []
    },
    {
      "cell_type": "code",
      "metadata": {
        "id": "5pJiHLTByibm"
      },
      "source": [
        "v0 = 5\n",
        "g = 9.81\n",
        "yc = 0.2\n",
        "from math import *\n",
        "t1 = (v0 - sqrt(v0**2 - 2*g*yc))/g\n",
        "t2 = (v0 + sqrt(v0**2 - 2*g*yc))/g\n",
        "print ('En t=%g s y %g s, la altura de la pelota es %g m.' % (t1,t2,yc))"
      ],
      "execution_count": null,
      "outputs": []
    },
    {
      "cell_type": "code",
      "metadata": {
        "id": "JrtFKv_c3bry"
      },
      "source": [
        "from math import sinh, exp, e, pi\n",
        "x = 2*pi\n",
        "r1 = sinh(x)\n",
        "r2 = 0.5*(exp(x) - exp(-x))\n",
        "r3 = 0.5*(e**x - e**(-x))\n",
        "print (r1, r2, r3)"
      ],
      "execution_count": null,
      "outputs": []
    },
    {
      "cell_type": "code",
      "metadata": {
        "id": "2Rwh8au-436U"
      },
      "source": [
        "from math import sinh, exp, e, pi\n",
        "x = 2*pi\n",
        "r1 = sinh(x)\n",
        "r2 = 0.5*(exp(x) - exp(-x))\n",
        "r3 = 0.5*(e**x - e**(-x))\n",
        "print ('%.16f %.16f %.16f' % (r1,r2,r3))"
      ],
      "execution_count": null,
      "outputs": []
    },
    {
      "cell_type": "code",
      "metadata": {
        "id": "XbgoVWAq52FR"
      },
      "source": [
        "print ('%.16f %.16f' % (1/49.0*49, 1/51.0*51))"
      ],
      "execution_count": null,
      "outputs": []
    },
    {
      "cell_type": "markdown",
      "metadata": {
        "id": "M4ZQSzDzsEkg"
      },
      "source": [
        "# Numeros Complejos"
      ]
    },
    {
      "cell_type": "code",
      "metadata": {
        "id": "kVu9UaP8sIUQ"
      },
      "source": [
        "u = 5.3 + 2.1j\n",
        "v = 3\n",
        "w = u + v\n",
        "w"
      ],
      "execution_count": null,
      "outputs": []
    },
    {
      "cell_type": "code",
      "metadata": {
        "id": "x0ywJJn3sPMr"
      },
      "source": [
        "a = -1\n",
        "b = 0.8\n",
        "s = a + b*1j\n",
        "s"
      ],
      "execution_count": null,
      "outputs": []
    },
    {
      "cell_type": "code",
      "metadata": {
        "id": "uRW1druRsVVb"
      },
      "source": [
        "a = -1\n",
        "b = 0.8\n",
        "s = complex(a, b)\n",
        "s"
      ],
      "execution_count": null,
      "outputs": []
    },
    {
      "cell_type": "code",
      "metadata": {
        "id": "QGUztbQlsZfb"
      },
      "source": [
        "u = 5.3 + 2.1j\n",
        "v = 3\n",
        "w = u + v\n",
        "a = -1\n",
        "b = 0.8\n",
        "s = a + b*1j\n",
        "s*w"
      ],
      "execution_count": null,
      "outputs": []
    },
    {
      "cell_type": "code",
      "metadata": {
        "id": "R6XppWV2spaG"
      },
      "source": [
        "u = 5.3 + 2.1j\n",
        "v = 3\n",
        "w = u + v\n",
        "a = -1\n",
        "b = 0.8\n",
        "s = a + b*1j\n",
        "s/w"
      ],
      "execution_count": null,
      "outputs": []
    },
    {
      "cell_type": "code",
      "metadata": {
        "id": "SofJIDRJvknZ"
      },
      "source": [
        "a = 4\n",
        "b = -2.3\n",
        "w = a + b*1j\n",
        "w.real"
      ],
      "execution_count": null,
      "outputs": []
    },
    {
      "cell_type": "code",
      "metadata": {
        "id": "3etHPjUWvtau"
      },
      "source": [
        "a = 4\n",
        "b = -2.3\n",
        "w = a + b*1j\n",
        "w.imag"
      ],
      "execution_count": null,
      "outputs": []
    },
    {
      "cell_type": "code",
      "metadata": {
        "id": "DHF266iUvvus"
      },
      "source": [
        "a = 4\n",
        "b = -2.3\n",
        "w = a + b*1j\n",
        "w.conjugate()"
      ],
      "execution_count": null,
      "outputs": []
    },
    {
      "cell_type": "code",
      "metadata": {
        "id": "LwZpa2Ub9uty"
      },
      "source": [
        "from cmath import sin, sinh\n",
        "r1 = sin(8j)\n",
        "r1"
      ],
      "execution_count": null,
      "outputs": []
    },
    {
      "cell_type": "code",
      "metadata": {
        "id": "GbSjAarJ9z5L"
      },
      "source": [
        "from cmath import sin, sinh\n",
        "r2 = 1j*sinh(8)\n",
        "r2"
      ],
      "execution_count": null,
      "outputs": []
    },
    {
      "cell_type": "code",
      "metadata": {
        "id": "of4CZBhiAy2c"
      },
      "source": [
        "from numpy.lib.scimath import *\n",
        "sqrt(4)"
      ],
      "execution_count": null,
      "outputs": []
    },
    {
      "cell_type": "code",
      "metadata": {
        "id": "YdDcdetqA5MT"
      },
      "source": [
        "from numpy.lib.scimath import *\n",
        "sqrt(-4)"
      ],
      "execution_count": null,
      "outputs": []
    },
    {
      "cell_type": "markdown",
      "metadata": {
        "id": "5J5G5WiFEnyf"
      },
      "source": [
        "# Derivadas e Integrales simbolicas"
      ]
    },
    {
      "cell_type": "code",
      "metadata": {
        "id": "8Hmeyn_xErdN"
      },
      "source": [
        "from sympy import (\n",
        "symbols, # define simbolos para matematicas simbolicas\n",
        "diff,    # diferenciacion simbolica de expresiones\n",
        "integrate, # integracion simbolica de expresiones\n",
        "Rational, # define numeros racionales\n",
        "lambdify, # convierte expresiones simbolicas en funciones de Python\n",
        ")\n",
        "t, v0, g = symbols('t v0 g')\n",
        "y = v0*t - Rational(1,2)*g*t**2\n",
        "print ('Derivada de la ecuacion', diff(y,t))\n",
        "print ('Segunda derivada:', diff(y, t, t))\n",
        "deriv=diff(y,t)\n",
        "print ('Regresamos a la original', integrate(deriv,t))\n",
        "v = lambdify([t, v0, g], # argumentos en v\n",
        "deriv)  # expresion simbolica que estamos convirtiendo en numerica \\\\\n",
        "print ('evaluacion', v(2, 5, 9.81))"
      ],
      "execution_count": null,
      "outputs": []
    },
    {
      "cell_type": "code",
      "metadata": {
        "id": "GzT7-fD4JKL0"
      },
      "source": [
        "from sympy import (\n",
        "symbols, # define simbolos para matematicas simbolicas\n",
        "Rational, # define numeros racionales \n",
        "solve # resuelve ecuaciones\n",
        ")\n",
        "t, v0, g = symbols('t v0 g') \n",
        "y = v0*t - Rational(1,2)*g*t**2\n",
        "roots = solve(y, t) \n",
        "print ('Las raices son', roots) \n",
        "print ('La primera raiz es', roots[0])\n",
        "print ('La primera raiz es', roots[1])\n",
        "print ('Check de primera raiz',y.subs(t,roots[0]))\n",
        "print ('Check de primera raiz',y.subs(t,roots[1]))"
      ],
      "execution_count": null,
      "outputs": []
    },
    {
      "cell_type": "markdown",
      "metadata": {
        "id": "55VvvU7rbCGp"
      },
      "source": [
        "# Serie de Taylor"
      ]
    },
    {
      "cell_type": "code",
      "metadata": {
        "id": "DAfq4FGRbA_Y"
      },
      "source": [
        "from sympy import symbols, exp, sin, cos\n",
        "t = symbols('t')\n",
        "f = exp(t)\n",
        "f.series(t, 0, 3)"
      ],
      "execution_count": null,
      "outputs": []
    },
    {
      "cell_type": "code",
      "metadata": {
        "id": "LA8FG_82bdaE"
      },
      "source": [
        "from sympy import symbols, exp, sin, cos\n",
        "t = symbols('t')\n",
        "f = exp(sin(t))\n",
        "f.series(t, 0, 8)"
      ],
      "execution_count": null,
      "outputs": []
    },
    {
      "cell_type": "code",
      "metadata": {
        "id": "pctsJzIxeFq4"
      },
      "source": [
        "from sympy import simplify, expand\n",
        "x, y = symbols('x y')\n",
        "f = -sin(x)*sin(y) + cos(x)*cos(y)\n",
        "simplify(f)"
      ],
      "execution_count": null,
      "outputs": []
    },
    {
      "cell_type": "code",
      "metadata": {
        "id": "SOksx6BveNFE"
      },
      "source": [
        "from sympy import simplify, expand\n",
        "x, y = symbols('x y')\n",
        "expand(sin(x+y), trig=True) # con un hint"
      ],
      "execution_count": null,
      "outputs": []
    },
    {
      "cell_type": "code",
      "metadata": {
        "id": "6hNdGX20csHY"
      },
      "source": [
        "from sympy import latex, symbols, exp, sin, cos\n",
        "t = symbols('t')\n",
        "print (latex(f.series(t, 0, 7)))"
      ],
      "execution_count": null,
      "outputs": []
    },
    {
      "cell_type": "code",
      "metadata": {
        "id": "vC_XFQ4OM2nm"
      },
      "source": [
        "a = 'Este es un pedazo de texto \\n escrito en dos lineas.'\n",
        "b = \"Los textos pueden escribirse con una comilla o doble comilla\" \n",
        "c = \"\"\"Los textos con tres dobles comillas \n",
        "pueden ocupar \n",
        "varias lineas.\n",
        "\"\"\"\n",
        "print (c)"
      ],
      "execution_count": null,
      "outputs": []
    },
    {
      "cell_type": "markdown",
      "metadata": {
        "id": "g2Uw4yn-XkaC"
      },
      "source": [
        "# Ejemplo: Trayectoria de pelota lanzada"
      ]
    },
    {
      "cell_type": "code",
      "metadata": {
        "id": "HVVT1IxzXq9q",
        "colab": {
          "base_uri": "https://localhost:8080/"
        },
        "outputId": "4950eca8-f398-431a-a9ef-ba490e1e0c30"
      },
      "source": [
        "g = 9.81 # m/s**2\n",
        "v0 = 15 # km/h\n",
        "theta = 60 # grados\n",
        "x = 0.5 # metros\n",
        "y0 = 1 # metros\n",
        "print (\"\"\" \\\n",
        "v0= %.1f km/h\n",
        "theta= %d grados\n",
        "y0= %.1f m\n",
        "x= %.1f m \\\n",
        "\"\"\" % (v0, theta, y0, x)\n",
        ")\n",
        "\n",
        "from math import pi, tan, cos\n",
        "# Convierte v0 to m/s y theta a radianes\n",
        "v0 = v0/3.6\n",
        "theta = theta*pi/180\n",
        "\n",
        "y = x*tan(theta) - 1/(2*v0**2)*g*x**2/((cos(theta))**2) + y0\n",
        "print ('La posicion de la pelota es y = %.1f m' % y )"
      ],
      "execution_count": null,
      "outputs": [
        {
          "output_type": "stream",
          "text": [
            " v0= 15.0 km/h\n",
            "theta= 60 grados\n",
            "y0= 1.0 m\n",
            "x= 0.5 m \n",
            "La posicion de la pelota es y = 1.6 m\n"
          ],
          "name": "stdout"
        }
      ]
    },
    {
      "cell_type": "markdown",
      "metadata": {
        "id": "qkvBchFFl9dt"
      },
      "source": [
        "# Metodo de Iteracion Simple para encontrar raices"
      ]
    },
    {
      "cell_type": "code",
      "metadata": {
        "id": "ca-WX-VimCIJ",
        "colab": {
          "base_uri": "https://localhost:8080/"
        },
        "outputId": "acdcc542-4c3a-49ca-8649-b140a7126fb7"
      },
      "source": [
        "x = 0       # valor inicial supuesto                   \n",
        "for iteration in range(1,200):  # 100 iteraciones supuestas\n",
        "  print (iteration,x)          # imprime el valor de x en cada iteracion\n",
        "  xnew = (2*x**2 + 3)/5        # calcula el lado derecho de la ecuacion\n",
        "  if x == xnew:                # compara con el viejo valor\n",
        "    break                      # si ya son iguales, sal\n",
        "  x = xnew                     # si no, asigna nuevo valor como valor inicial\n",
        "print (iteration, xnew)      # e imprime el nuevo valor\n",
        "                              \n",
        "                              "
      ],
      "execution_count": null,
      "outputs": [
        {
          "output_type": "stream",
          "text": [
            "1 0\n",
            "2 0.6\n",
            "3 0.744\n",
            "4 0.8214144000000001\n",
            "5 0.8698886466109441\n",
            "6 0.902682503001048\n",
            "7 0.925934280489695\n",
            "8 0.9429417167143876\n",
            "9 0.9556556324481106\n",
            "10 0.9653110751319194\n",
            "11 0.9727301887089368\n",
            "12 0.9784816080102896\n",
            "13 0.9829705028857608\n",
            "14 0.9864924038173942\n",
            "15 0.9892669051157682\n",
            "16 0.9914596038229322\n",
            "17 0.9931968584050903\n",
            "18 0.9945759998182965\n",
            "19 0.9956725677658256\n",
            "20 0.9965455448805571\n",
            "21 0.9972412092085147\n",
            "22 0.9977960117374642\n",
            "23 0.998238752415676\n",
            "24 0.998592242729762\n",
            "25 0.9988745868960223\n",
            "26 0.9991001761386796\n",
            "27 0.9992804647841362\n",
            "28 0.9994245789196798\n",
            "29 0.9995397955795117\n",
            "30 0.9996319211788528\n",
            "31 0.9997055911358897\n",
            "32 0.9997645075793435\n",
            "33 0.9998116282461469\n",
            "34 0.9998493167904845\n",
            "35 0.9998794625145594\n",
            "36 0.9999035758233618\n",
            "37 0.9999228643777383\n",
            "38 0.9999382938821523\n",
            "39 0.9999506366287798\n",
            "40 0.9999605102777208\n",
            "41 0.999968408845952\n",
            "42 0.999974727475962\n",
            "43 0.99997978223625\n",
            "44 0.9999838259525031\n",
            "45 0.9999870608666424\n",
            "46 0.9999896487602824\n",
            "47 0.9999917190510852\n",
            "48 0.9999933752682978\n",
            "49 0.9999947002321932\n",
            "50 0.9999957601969897\n",
            "51 0.9999966081647822\n",
            "52 0.9999972865364276\n",
            "53 0.9999978292320872\n",
            "54 0.9999982633875547\n",
            "55 0.9999986107112502\n",
            "56 0.9999988885697721\n",
            "57 0.9999991108563119\n",
            "58 0.9999992886853658\n",
            "59 0.9999994309484951\n",
            "60 0.9999995447589256\n",
            "61 0.9999996358072234\n",
            "62 0.9999997086458319\n",
            "63 0.9999997669166995\n",
            "64 0.9999998135333813\n",
            "65 0.9999998508267189\n",
            "66 0.999999880661384\n",
            "67 0.999999904529113\n",
            "68 0.9999999236232942\n",
            "69 0.9999999388986376\n",
            "70 0.9999999511189117\n",
            "71 0.9999999608951302\n",
            "72 0.9999999687161047\n",
            "73 0.9999999749728842\n",
            "74 0.9999999799783076\n",
            "75 0.9999999839826461\n",
            "76 0.999999987186117\n",
            "77 0.9999999897488937\n",
            "78 0.999999991799115\n",
            "79 0.9999999934392921\n",
            "80 0.9999999947514336\n",
            "81 0.9999999958011468\n",
            "82 0.9999999966409174\n",
            "83 0.9999999973127339\n",
            "84 0.9999999978501872\n",
            "85 0.9999999982801497\n",
            "86 0.9999999986241198\n",
            "87 0.9999999988992958\n",
            "88 0.9999999991194366\n",
            "89 0.9999999992955493\n",
            "90 0.9999999994364395\n",
            "91 0.9999999995491515\n",
            "92 0.9999999996393212\n",
            "93 0.9999999997114569\n",
            "94 0.9999999997691656\n",
            "95 0.9999999998153324\n",
            "96 0.999999999852266\n",
            "97 0.9999999998818128\n",
            "98 0.9999999999054502\n",
            "99 0.9999999999243603\n",
            "100 0.9999999999394882\n",
            "101 0.9999999999515905\n",
            "102 0.9999999999612724\n",
            "103 0.9999999999690179\n",
            "104 0.9999999999752143\n",
            "105 0.9999999999801714\n",
            "106 0.9999999999841371\n",
            "107 0.9999999999873097\n",
            "108 0.9999999999898478\n",
            "109 0.9999999999918782\n",
            "110 0.9999999999935024\n",
            "111 0.999999999994802\n",
            "112 0.9999999999958415\n",
            "113 0.9999999999966732\n",
            "114 0.9999999999973387\n",
            "115 0.9999999999978708\n",
            "116 0.9999999999982967\n",
            "117 0.9999999999986373\n",
            "118 0.9999999999989099\n",
            "119 0.9999999999991278\n",
            "120 0.9999999999993022\n",
            "121 0.9999999999994419\n",
            "122 0.9999999999995535\n",
            "123 0.9999999999996427\n",
            "124 0.9999999999997142\n",
            "125 0.9999999999997714\n",
            "126 0.999999999999817\n",
            "127 0.9999999999998537\n",
            "128 0.999999999999883\n",
            "129 0.9999999999999064\n",
            "130 0.9999999999999251\n",
            "131 0.9999999999999399\n",
            "132 0.999999999999952\n",
            "133 0.9999999999999616\n",
            "134 0.9999999999999692\n",
            "135 0.9999999999999755\n",
            "136 0.9999999999999805\n",
            "137 0.9999999999999843\n",
            "138 0.9999999999999876\n",
            "139 0.99999999999999\n",
            "140 0.999999999999992\n",
            "141 0.9999999999999936\n",
            "142 0.9999999999999949\n",
            "143 0.9999999999999959\n",
            "144 0.9999999999999968\n",
            "145 0.9999999999999976\n",
            "146 0.999999999999998\n",
            "147 0.9999999999999984\n",
            "148 0.9999999999999988\n",
            "149 0.9999999999999989\n",
            "150 0.9999999999999991\n",
            "151 0.9999999999999993\n",
            "152 0.9999999999999994\n",
            "153 0.9999999999999997\n",
            "153 0.9999999999999997\n"
          ],
          "name": "stdout"
        }
      ]
    },
    {
      "cell_type": "code",
      "metadata": {
        "id": "L8WouRy7uaex",
        "colab": {
          "base_uri": "https://localhost:8080/"
        },
        "outputId": "74312766-1944-43e0-f409-9604ec5c8913"
      },
      "source": [
        "x = 0       # valor inicial supuesto                   \n",
        "for iteration in range(1,101):  # 100 iteraciones supuestas\n",
        "   print (iteration,x)          # imprime el valor de x en cada iteracion\n",
        "   xnew = (2*x**2 + 3)/5        # calcula el lado derecho de la ecuacion\n",
        "   if abs(x - xnew) < 0.000001: # en lugar de if x == xnew\n",
        "     break                      # si ya son iguales, sal\n",
        "   x = xnew                     # si no, asigna nuevo valor como valor inicial\n",
        "   print (iteration, xnew)      # e imprime el nuevo valor"
      ],
      "execution_count": null,
      "outputs": [
        {
          "output_type": "stream",
          "text": [
            "1 0\n",
            "1 0.6\n",
            "2 0.6\n",
            "2 0.744\n",
            "3 0.744\n",
            "3 0.8214144000000001\n",
            "4 0.8214144000000001\n",
            "4 0.8698886466109441\n",
            "5 0.8698886466109441\n",
            "5 0.902682503001048\n",
            "6 0.902682503001048\n",
            "6 0.925934280489695\n",
            "7 0.925934280489695\n",
            "7 0.9429417167143876\n",
            "8 0.9429417167143876\n",
            "8 0.9556556324481106\n",
            "9 0.9556556324481106\n",
            "9 0.9653110751319194\n",
            "10 0.9653110751319194\n",
            "10 0.9727301887089368\n",
            "11 0.9727301887089368\n",
            "11 0.9784816080102896\n",
            "12 0.9784816080102896\n",
            "12 0.9829705028857608\n",
            "13 0.9829705028857608\n",
            "13 0.9864924038173942\n",
            "14 0.9864924038173942\n",
            "14 0.9892669051157682\n",
            "15 0.9892669051157682\n",
            "15 0.9914596038229322\n",
            "16 0.9914596038229322\n",
            "16 0.9931968584050903\n",
            "17 0.9931968584050903\n",
            "17 0.9945759998182965\n",
            "18 0.9945759998182965\n",
            "18 0.9956725677658256\n",
            "19 0.9956725677658256\n",
            "19 0.9965455448805571\n",
            "20 0.9965455448805571\n",
            "20 0.9972412092085147\n",
            "21 0.9972412092085147\n",
            "21 0.9977960117374642\n",
            "22 0.9977960117374642\n",
            "22 0.998238752415676\n",
            "23 0.998238752415676\n",
            "23 0.998592242729762\n",
            "24 0.998592242729762\n",
            "24 0.9988745868960223\n",
            "25 0.9988745868960223\n",
            "25 0.9991001761386796\n",
            "26 0.9991001761386796\n",
            "26 0.9992804647841362\n",
            "27 0.9992804647841362\n",
            "27 0.9994245789196798\n",
            "28 0.9994245789196798\n",
            "28 0.9995397955795117\n",
            "29 0.9995397955795117\n",
            "29 0.9996319211788528\n",
            "30 0.9996319211788528\n",
            "30 0.9997055911358897\n",
            "31 0.9997055911358897\n",
            "31 0.9997645075793435\n",
            "32 0.9997645075793435\n",
            "32 0.9998116282461469\n",
            "33 0.9998116282461469\n",
            "33 0.9998493167904845\n",
            "34 0.9998493167904845\n",
            "34 0.9998794625145594\n",
            "35 0.9998794625145594\n",
            "35 0.9999035758233618\n",
            "36 0.9999035758233618\n",
            "36 0.9999228643777383\n",
            "37 0.9999228643777383\n",
            "37 0.9999382938821523\n",
            "38 0.9999382938821523\n",
            "38 0.9999506366287798\n",
            "39 0.9999506366287798\n",
            "39 0.9999605102777208\n",
            "40 0.9999605102777208\n",
            "40 0.999968408845952\n",
            "41 0.999968408845952\n",
            "41 0.999974727475962\n",
            "42 0.999974727475962\n",
            "42 0.99997978223625\n",
            "43 0.99997978223625\n",
            "43 0.9999838259525031\n",
            "44 0.9999838259525031\n",
            "44 0.9999870608666424\n",
            "45 0.9999870608666424\n",
            "45 0.9999896487602824\n",
            "46 0.9999896487602824\n",
            "46 0.9999917190510852\n",
            "47 0.9999917190510852\n",
            "47 0.9999933752682978\n",
            "48 0.9999933752682978\n",
            "48 0.9999947002321932\n",
            "49 0.9999947002321932\n",
            "49 0.9999957601969897\n",
            "50 0.9999957601969897\n"
          ],
          "name": "stdout"
        }
      ]
    },
    {
      "cell_type": "code",
      "metadata": {
        "id": "fYzp4iUnwHJ0",
        "colab": {
          "base_uri": "https://localhost:8080/",
          "height": 265
        },
        "outputId": "6113ebbb-352c-4158-a9e4-070e45297202"
      },
      "source": [
        "def met_iter_simple(a, tol): \n",
        "  x = a       # valor inicial supuesto                   \n",
        "  for paso in range(1,101):  # 100 iteraciones supuestas\n",
        "    xnew = (2*x**2 + 3)/5        # calcula el lado derecho de la ecuacion\n",
        "    if abs(x - xnew) < tol: # en lugar de if x == xnew\n",
        "      break                      # si ya son iguales, sal\n",
        "    x = xnew                     # si no, asigna nuevo valor como valor inicial\n",
        "    yield paso, x, xnew     # guardar el arreglo de 3 columnas\n",
        "\n",
        "import numpy as np\n",
        "np.array(list(met_iter_simple(0, 10e-6))) #crear el arreglo con la salida\n",
        "\n",
        "import matplotlib.pyplot as plt\n",
        "\n",
        "data = np.array(list(met_iter_simple(0, 10e-6)))\n",
        "\n",
        "\n",
        "plt.plot(data[:,0], data[:,1],data[:,2])          # graficar \n",
        "#plt.show()\n",
        "\n",
        "plt.savefig('metitersimple.png')\n",
        "\n"
      ],
      "execution_count": null,
      "outputs": [
        {
          "output_type": "display_data",
          "data": {
            "image/png": "[encoded data removed]",
            "text/plain": [
              "<Figure size 432x288 with 1 Axes>"
            ]
          },
          "metadata": {
            "tags": [],
            "needs_background": "light"
          }
        }
      ]
    },
    {
      "cell_type": "markdown",
      "metadata": {
        "id": "bFxQWZ6zPz9W"
      },
      "source": [
        "# Otro ejemplo de buscador de raices iterativo"
      ]
    },
    {
      "cell_type": "code",
      "metadata": {
        "id": "kBb0A7-4OoP6",
        "colab": {
          "base_uri": "https://localhost:8080/",
          "height": 70
        },
        "outputId": "a7c686bd-b185-4f5b-ff32-32dfc9acab90"
      },
      "source": [
        "## module rootsearch\n",
        "## x1,x2 = rootsearch(f,a,b,dx).\n",
        "## Searches the interval (a,b) in increments dx for\n",
        "## the bounds (x1,x2) of the smallest root of f(x).\n",
        "## Returns x1 = x2 = None if no roots were detected.\n",
        "##\n",
        "\n",
        "from numpy import sign\n",
        "\n",
        "def rootsearch(f,a,b,dx):\n",
        "  x1 = a; f1 = f(a)\n",
        "  x2 = a + dx; f2 = f(x2)\n",
        "  while sign(f1) == sign(f2):\n",
        "    if x1 >= b: return None,None\n",
        "    x1 = x2; f1 = f2\n",
        "    x2 = x1 + dx; f2 = f(x2)\n",
        "  else:\n",
        "    return x1,x2\n",
        "\n",
        "def f(x): return x**3 - 10.0*x**2 + 5.0\n",
        "\n",
        "x1 = 0.0; x2 = 1.0\n",
        "for i in range(4):\n",
        "  dx = (x2 - x1)/10.0\n",
        "  x1,x2 = rootsearch(f,x1,x2,dx)\n",
        "x = (x1 + x2)/2.0\n",
        "print('x =', '{:6.4f}'.format(x))\n",
        "input(\"Press return to exit\")"
      ],
      "execution_count": null,
      "outputs": [
        {
          "output_type": "stream",
          "text": [
            "x = 0.7346\n",
            "Press return to exit5\n"
          ],
          "name": "stdout"
        },
        {
          "output_type": "execute_result",
          "data": {
            "application/vnd.google.colaboratory.intrinsic+json": {
              "type": "string"
            },
            "text/plain": [
              "'5'"
            ]
          },
          "metadata": {
            "tags": []
          },
          "execution_count": 9
        }
      ]
    },
    {
      "cell_type": "markdown",
      "metadata": {
        "id": "acbQdfA00kA_"
      },
      "source": [
        "# Metodo Biseccion"
      ]
    },
    {
      "cell_type": "code",
      "metadata": {
        "id": "6xKIZkJ-KN4u",
        "colab": {
          "base_uri": "https://localhost:8080/",
          "height": 299
        },
        "outputId": "a8b791fe-c7ba-4ca5-e175-16af65d31d87"
      },
      "source": [
        "import matplotlib.pyplot as plt\n",
        "import numpy as np\n",
        "\n",
        "ax = plt.subplot(111)\n",
        "\n",
        "t = np.arange(0.0, 3.0, 0.01)\n",
        "s = 2*t**2-5*t+3  # np.cos(2*np.pi*t)\n",
        "line, = plt.plot(t, s, lw=2)\n",
        "\n",
        "plt.annotate('raiz', xy=(1.5, 0), xytext=(2.5, 0.5),\n",
        "             arrowprops=dict(facecolor='black', shrink=0.05),\n",
        "             )\n",
        "plt.annotate('raiz', xy=(1.0, 0), xytext=(0, 0.5),\n",
        "             arrowprops=dict(facecolor='black', shrink=0.05),\n",
        "             )\n",
        "\n",
        "plt.grid(True)\n",
        "plt.ylim(-0.5, 1)\n",
        "\n",
        "plt.title(\"$y=2x^2-5x+3$\")\n",
        "#plt.plot(s, label='linear')\n",
        "#plt.legend(loc='upper left', frameon=True)\n",
        "plt.ylabel('$y = f(x)$')\n",
        "plt.xlabel('x')\n",
        "\n",
        "#plt.show()\n",
        "\n",
        "plt.savefig('raices.png')"
      ],
      "execution_count": null,
      "outputs": [
        {
          "output_type": "display_data",
          "data": {
            "image/png": "[encoded data removed]",
            "text/plain": [
              "<Figure size 432x288 with 1 Axes>"
            ]
          },
          "metadata": {
            "tags": [],
            "needs_background": "light"
          }
        }
      ]
    },
    {
      "cell_type": "code",
      "metadata": {
        "id": "VJvu_9vSKj4x",
        "colab": {
          "base_uri": "https://localhost:8080/"
        },
        "outputId": "11b1ef12-b4b0-4398-bc35-22d758f7335e"
      },
      "source": [
        "# Metodo de Biseccion para el Ejemplo de clase\n",
        "x1 = 1.1                 # primer valor del intervalo\n",
        "x2 = 2.2               # segudo valor del intervalo\n",
        "y1 = 2*x1**2-5*x1+3    # calcula y1\n",
        "y2 = 2*x2**2-5*x2+3    # calcula y2\n",
        "if y1*y2 > 0:          # prueba si los signos son iguales\n",
        "    print('No hay raices en el intervalo dado')\n",
        "    exit               # termina el programa  #falta encontrar el buen EXIT!!\n",
        "for i in range(1,101): # asume que 100 bisecciones son suficientes\n",
        "  xh = (x1+x2)/2         # calcula el valor medio\n",
        "  yh = 2*xh**2-5*xh+3    # calcula el valor de y en el valor medio yh\n",
        "  y1 = 2*x1**2-5*x1+3    # calcula y1\n",
        "  if abs(y1) < 1.0e-6:   # condicion de acercamiento a la solucion (tol)\n",
        "    break                  # salir del loop\n",
        "  elif y1*yh < 0:        # si el signo es diferente quedarse en la primera mitad\n",
        "    x2 = xh                # que x2 sea el punto medio\n",
        "  else:                  # si el signo es igual quedarse en la segunda mitad\n",
        "    x1 = xh                # que x1 sea el punto medio\n",
        "print('La raiz es: %.5f' % x1)\n",
        "print('Numero de bisecciones: %d' % i)"
      ],
      "execution_count": null,
      "outputs": [
        {
          "output_type": "stream",
          "text": [
            "La raiz es: 1.50000\n",
            "Numero de bisecciones: 19\n"
          ],
          "name": "stdout"
        }
      ]
    },
    {
      "cell_type": "code",
      "metadata": {
        "id": "EMbbJu8MgzuC",
        "colab": {
          "base_uri": "https://localhost:8080/"
        },
        "outputId": "967689fb-02e1-45f0-8326-a895d7d1baa2"
      },
      "source": [
        "# Metodo de Biseccion Mejorado para el Ejemplo de clase\n",
        "\n",
        "def y(x):                    # define la funcion y(x)\n",
        "  y = 2*x**2 - 5*x + 3\n",
        "  return y\n",
        "\n",
        "x1 = float(input('Captura el valor de x1: ')) # peticion de valor x1\n",
        "x2 = float(input('Captura el valor de x2: ')) # peticion de valor x2\n",
        "y1 = y(x1)                                    # evalua la funcion y(x1)\n",
        "y2 = y(x2)                                    # evalua la funcion y(x1)\n",
        "\n",
        "if y1*y2 > 0:                                 # prueba si los signos son iguales\n",
        "  print('No hay raices en el intervalo')\n",
        "  exit\n",
        "\n",
        "for i in range(100):\n",
        "  xh = (x1+x2)/2\n",
        "  yh = y(xh)                                  # evalua la funcion y(xh)\n",
        "  y1 = y(x1)                                  # evalua la funcion y(x1)\n",
        "  if abs(y1) < 1.0e-6:\n",
        "    break\n",
        "  elif y1*yh < 0:\n",
        "    x2 = xh\n",
        "  else:\n",
        "    x1 = xh\n",
        "print('La raiz es: %.5f' % x1)\n",
        "print('Numero de bisecciones: %d' % (i+1))\n"
      ],
      "execution_count": null,
      "outputs": [
        {
          "output_type": "stream",
          "text": [
            "Captura el valor de x1: 5\n",
            "Captura el valor de x2: 6\n",
            "No hay raices en el intervalo\n",
            "La raiz es: 6.00000\n",
            "Numero de bisecciones: 100\n"
          ],
          "name": "stdout"
        }
      ]
    },
    {
      "cell_type": "code",
      "metadata": {
        "id": "lyQnVN3RlzGU",
        "colab": {
          "base_uri": "https://localhost:8080/"
        },
        "outputId": "99ed2f24-90cc-4cc0-8e46-f42ccad75066"
      },
      "source": [
        "#Encontrando raices con diferentes metodos usando Scipy\n",
        "\n",
        "from scipy.optimize import newton, bisect, fsolve, root\n",
        "f  = lambda x: 2*x**2-5*x + 3\n",
        "print(newton(f, 0)) # entradas son funcion y valor prueba\n",
        "print(newton(f, 3))\n",
        "print(bisect(f,0,1.2)) # entradas son funcion e intervalo inicial\n",
        "print(bisect(f,1.2,4))\n",
        "print(fsolve(f,0)) # entradas son funcion y valor prueba\n",
        "print(fsolve(f, 2))\n",
        "print(fsolve(f,[0, 1, 2]))"
      ],
      "execution_count": null,
      "outputs": [
        {
          "output_type": "stream",
          "text": [
            "0.9999999999999999\n",
            "1.5000000000000004\n",
            "0.9999999999996361\n",
            "1.4999999999994542\n",
            "[1.]\n",
            "[1.5]\n",
            "[1.  1.  1.5]\n"
          ],
          "name": "stdout"
        }
      ]
    },
    {
      "cell_type": "code",
      "metadata": {
        "id": "zLpkOIeK0n7_",
        "colab": {
          "base_uri": "https://localhost:8080/"
        },
        "outputId": "fc7cfd2b-e72c-4043-9739-ace64642bd7e"
      },
      "source": [
        "import math\n",
        "def root(x):\n",
        "    return(math.cos(x)-math.sin(x))\n",
        "\n",
        "def bisection_method(f, a, b, tol):\n",
        "    if f(a)*f(b) > 0:\n",
        "        #end function, no root.\n",
        "        print(\"No root found.\")\n",
        "    else:\n",
        "        iter = 0\n",
        "        while (b - a)/2.0 > tol:\n",
        "            midpoint = (a + b)/2.0\n",
        "            yield iter, abs(f(midpoint)), midpoint\n",
        "            if f(a)*f(midpoint) < 0: # Increasing but below 0 case\n",
        "                b = midpoint\n",
        "            else:\n",
        "                a = midpoint\n",
        "            iter += 1\n",
        "\n",
        "import numpy as np\n",
        "np.array(list(bisection_method(root, 0, 1.57, 10e-3)))\n",
        "\n"
      ],
      "execution_count": null,
      "outputs": [
        {
          "output_type": "execute_result",
          "data": {
            "text/plain": [
              "array([[0.00000000e+00, 5.63088062e-04, 7.85000000e-01],\n",
              "       [1.00000000e+00, 5.40415665e-01, 1.17750000e+00],\n",
              "       [2.00000000e+00, 2.75209010e-01, 9.81250000e-01],\n",
              "       [3.00000000e+00, 1.37986732e-01, 8.83125000e-01],\n",
              "       [4.00000000e+00, 6.87946039e-02, 8.34062500e-01],\n",
              "       [5.00000000e+00, 3.41260256e-02, 8.09531250e-01],\n",
              "       [6.00000000e+00, 1.67827312e-02, 7.97265625e-01]])"
            ]
          },
          "metadata": {
            "tags": []
          },
          "execution_count": 14
        }
      ]
    },
    {
      "cell_type": "markdown",
      "metadata": {
        "id": "go3ctm-ccuU4"
      },
      "source": [
        "# Otro ejemplo de biseccion"
      ]
    },
    {
      "cell_type": "code",
      "metadata": {
        "id": "UD2Hgf-gctin",
        "colab": {
          "base_uri": "https://localhost:8080/",
          "height": 70
        },
        "outputId": "d5403d9f-9117-479e-bb31-98a58e591aa5"
      },
      "source": [
        "\n",
        "## module error\n",
        "## err(string).\n",
        "## Prints ’string’ and terminates program.\n",
        "import sys\n",
        "\n",
        "def err(string):\n",
        "  print(string)\n",
        "  input('Press return to exit')\n",
        "  sys.exit()\n",
        "\n",
        "\n",
        "## module bisection\n",
        "## root = bisection(f,x1,x2,switch=0,tol=1.0e-9).\n",
        "## Finds a root of f(x) = 0 by bisection.\n",
        "## The root must be bracketed in (x1,x2).\n",
        "## Setting switch = 1 returns root = None if\n",
        "## f(x) increases upon bisection.\n",
        "##\n",
        "import math\n",
        "from numpy import sign\n",
        "\n",
        "\n",
        "\n",
        "def bisection(f,x1,x2,switch=1,tol=1.0e-9):\n",
        "  f1 = f(x1)\n",
        "  if f1 == 0.0: return x1\n",
        "  f2 = f(x2)\n",
        "  if f2 == 0.0: return x2\n",
        "  if sign(f1) == sign(f2): error.err('Root is not bracketed')\n",
        "  n = int(math.ceil(math.log(abs(x2 - x1)/tol)/math.log(2.0)))\n",
        "  \n",
        "  for i in range(n):\n",
        "    x3 = 0.5*(x1 + x2); f3 = f(x3)\n",
        "    if (switch == 1) and (abs(f3) > abs(f1))\\\n",
        "                     and (abs(f3) > abs(f2)):\n",
        "        return None\n",
        "    if f3 == 0.0: return x3\n",
        "    if sign(f2)!= sign(f3): x1 = x3; f1 = f3\n",
        "    else: x2 = x3; f2 = f3 \n",
        "  return (x1 + x2)/2.0\n",
        "\n",
        "def f(x): return x**3 - 10.0*x**2 + 5.0\n",
        "x = bisection(f, 0.0, 1.0, tol = 1.0e-4)\n",
        "print('x =', '{:6.4f}'.format(x))\n",
        "input(\"Press return to exit\")"
      ],
      "execution_count": null,
      "outputs": [
        {
          "output_type": "stream",
          "text": [
            "x = 0.7346\n",
            "Press return to exit\n"
          ],
          "name": "stdout"
        },
        {
          "output_type": "execute_result",
          "data": {
            "application/vnd.google.colaboratory.intrinsic+json": {
              "type": "string"
            },
            "text/plain": [
              "''"
            ]
          },
          "metadata": {
            "tags": []
          },
          "execution_count": 16
        }
      ]
    },
    {
      "cell_type": "markdown",
      "metadata": {
        "id": "dA6qY0pbg2Gs"
      },
      "source": [
        "# Biseccion y RootFinder combinados"
      ]
    },
    {
      "cell_type": "code",
      "metadata": {
        "id": "PSESzaJKg78V",
        "colab": {
          "base_uri": "https://localhost:8080/",
          "height": 209
        },
        "outputId": "725ba090-56f2-4696-f5f5-55991bd9993f"
      },
      "source": [
        "import math\n",
        "from numpy import sign\n",
        "\n",
        "def rootsearch(f,a,b,dx):\n",
        "  x1 = a; f1 = f(a)\n",
        "  x2 = a + dx; f2 = f(x2)\n",
        "  while sign(f1) == sign(f2):\n",
        "    if x1 >= b: return None,None\n",
        "    x1 = x2; f1 = f2\n",
        "    x2 = x1 + dx; f2 = f(x2)\n",
        "  else:\n",
        "    return x1,x2\n",
        "\n",
        "def bisection(f,x1,x2,switch=1,tol=1.0e-9):\n",
        "  f1 = f(x1)\n",
        "  if f1 == 0.0: return x1\n",
        "  f2 = f(x2)\n",
        "  if f2 == 0.0: return x2\n",
        "  if sign(f1) == sign(f2): error.err('Root is not bracketed')\n",
        "  n = int(math.ceil(math.log(abs(x2 - x1)/tol)/math.log(2.0)))\n",
        "  \n",
        "  for i in range(n):\n",
        "    x3 = 0.5*(x1 + x2); f3 = f(x3)\n",
        "    if (switch == 1) and (abs(f3) > abs(f1))\\\n",
        "                     and (abs(f3) > abs(f2)):\n",
        "        return None\n",
        "    if f3 == 0.0: return x3\n",
        "    if sign(f2)!= sign(f3): x1 = x3; f1 = f3\n",
        "    else: x2 = x3; f2 = f3 \n",
        "  return (x1 + x2)/2.0\n",
        "\n",
        "\n",
        "def f(x): return x - math.tan(x)\n",
        "a,b,dx = (0.0, 20.0, 0.01)\n",
        "print(\"The roots are:\")\n",
        "while (True):\n",
        "  x1,x2 = rootsearch(f,a,b,dx)\n",
        "  if x1 != None: \n",
        "    a = x2\n",
        "    root = bisection(f,x1,x2,1)\n",
        "    if root != None: print(root)\n",
        "  else:\n",
        "    print(\"\\nDone\")\n",
        "    break\n",
        "input(\"Press return to exit\")"
      ],
      "execution_count": null,
      "outputs": [
        {
          "output_type": "stream",
          "text": [
            "The roots are:\n",
            "0.0\n",
            "4.493409458100745\n",
            "7.725251837074637\n",
            "10.904121659695917\n",
            "14.06619391292308\n",
            "17.220755272209537\n",
            "\n",
            "Done\n",
            "Press return to exit\n"
          ],
          "name": "stdout"
        },
        {
          "output_type": "execute_result",
          "data": {
            "application/vnd.google.colaboratory.intrinsic+json": {
              "type": "string"
            },
            "text/plain": [
              "''"
            ]
          },
          "metadata": {
            "tags": []
          },
          "execution_count": 17
        }
      ]
    },
    {
      "cell_type": "markdown",
      "metadata": {
        "id": "MiiH58-0JPbM"
      },
      "source": [
        "# Metodo de Ridder"
      ]
    },
    {
      "cell_type": "code",
      "metadata": {
        "id": "RXU0vQfqPXzg",
        "colab": {
          "base_uri": "https://localhost:8080/",
          "height": 295
        },
        "outputId": "04cc0d83-a4f6-4b13-de4e-4eb512b15df7"
      },
      "source": [
        "import matplotlib.pyplot as plt\n",
        "import numpy as np\n",
        "\n",
        "ax = plt.subplot(111)\n",
        "\n",
        "t = np.arange(-1.0, 3.0, 0.1)\n",
        "a = (t - 0.3)**2 + 0.01\n",
        "b = (t - 0.8)**2 + 0.04\n",
        "s = 1.0/a - 1.0/b\n",
        "line, = plt.plot(t, s, lw=2)\n",
        "\n",
        "plt.annotate('raiz', xy=(0.6,0.0), xytext=(1.5, 5.0),\n",
        "             arrowprops=dict(facecolor='black', shrink=0.05),\n",
        "             )\n",
        "\n",
        "\n",
        "plt.grid(True)\n",
        "plt.ylim(-20.0, 20.0)\n",
        "\n",
        "plt.title(\"y=1/(((x-0.3)^2+0.01) - 1/((x-0.8)^2+0.04))\")\n",
        "plt.ylabel('y = f(x)')\n",
        "plt.xlabel('x')\n",
        "\n",
        "plt.savefig('raices-ridder.png')"
      ],
      "execution_count": null,
      "outputs": [
        {
          "output_type": "display_data",
          "data": {
            "image/png": "[encoded data removed]",
            "text/plain": [
              "<Figure size 432x288 with 1 Axes>"
            ]
          },
          "metadata": {
            "tags": [],
            "needs_background": "light"
          }
        }
      ]
    },
    {
      "cell_type": "code",
      "metadata": {
        "id": "jejSXQ1uJOH_"
      },
      "source": [
        "## Encuentra el error en este codigo! es typo del libro!\n",
        "## module ridder\n",
        "## root = ridder(f,a,b,tol=1.0e-9).\n",
        "## Finds a root of f(x) = 0 with Ridder’s method.\n",
        "## The root must be bracketed in (a,b).\n",
        "##\n",
        "###import pdb; pdb.set_trace()\n",
        "\n",
        "\n",
        "\n",
        "## module error\n",
        "## err(string).\n",
        "## Prints ’string’ and terminates program.\n",
        "import sys\n",
        "\n",
        "def err(string):\n",
        "  print(string)\n",
        "  input('Press return to exit')\n",
        "  sys.exit()\n",
        "\n",
        "import math\n",
        "from numpy import sign\n",
        "\n",
        "def ridder(f,a,b,tol=1.0e-9):\n",
        "  fa = f(a)\n",
        "  if fa == 0.0: return a\n",
        "  fb = f(b)\n",
        "  if fb == 0.0: return b\n",
        "  if sign(fa)!= sign(fb): c=a; fc=fa\n",
        "  for i in range(30):\n",
        "# Compute the improved root x from Ridder’s formula\n",
        "      c = 0.5*(a + b); \n",
        "      fc = f(c)\n",
        "      s = math.sqrt(fc**2 - fa*fb)\n",
        "      if s == 0.0: return None\n",
        "      dx = (c - a)*fc/s\n",
        "      if (fa - fb) < 0.0: dx = -dx\n",
        "      x = c + dx; fx = f(x)\n",
        "# Test for convergence\n",
        "  if i > 0:\n",
        "     xOld = x\n",
        "     if abs(x - xOld) < tol*max(abs(x),1.0): return x\n",
        "# Re-bracket the root as tightly as possible\n",
        "  if sign(fc) == sign(fx):\n",
        "    if sign(fa)!= sign(fx): b = x; fb = fx\n",
        "    else: a = x; fa = fx\n",
        "  else:\n",
        "    a = c; b = x; fa = fc; fb = fx\n",
        "  return None\n",
        "  print('Too many iterations')\n",
        "\n",
        "\n",
        "\n"
      ],
      "execution_count": null,
      "outputs": []
    },
    {
      "cell_type": "code",
      "metadata": {
        "colab": {
          "base_uri": "https://localhost:8080/"
        },
        "id": "dEHm9xUfWzOE",
        "outputId": "993e6e1c-b42f-4c0c-e03c-867e52c5cd37"
      },
      "source": [
        "# Ejemplos de uso de Metodo de Ridder\n",
        "\n",
        "def g(x): \n",
        "  a = (x - 0.3)**2 + 0.01\n",
        "  b = (x - 0.8)**2 + 0.04\n",
        "  return 1.0/a - 1.0/b\n",
        "\n",
        "\n",
        "x = ridder(g,0.0,1.0)\n",
        "print('La raiz es', '{:6.4f}'.format(x))\n",
        "\n",
        "\n",
        "\n",
        "\n",
        "\n",
        "#def f(x): return x**3 - 10.0*x**2 + 5.0\n",
        "#x = ridder(f, 0.6, 0.8)\n",
        "#print('La raiz es', '{:6.4f}'.format(x))\n",
        "\n",
        "#input('Press return to exit')\n"
      ],
      "execution_count": null,
      "outputs": [
        {
          "output_type": "stream",
          "text": [
            "La raiz es 0.8964\n"
          ],
          "name": "stdout"
        }
      ]
    },
    {
      "cell_type": "code",
      "metadata": {
        "id": "kHe4PTU-TkzV",
        "colab": {
          "base_uri": "https://localhost:8080/"
        },
        "outputId": "94a52de7-7f67-45b4-d6a6-ed78a44d8440"
      },
      "source": [
        "def g(x): \n",
        "  a = (x - 0.3)**2 + 0.01\n",
        "  b = (x - 0.8)**2 + 0.04\n",
        "  return 1.0/a - 1.0/b\n",
        "\n",
        "from scipy import optimize\n",
        "root = optimize.ridder(g, 0.0, 1.0)\n",
        "root"
      ],
      "execution_count": null,
      "outputs": [
        {
          "output_type": "execute_result",
          "data": {
            "text/plain": [
              "0.5799999999997971"
            ]
          },
          "metadata": {
            "tags": []
          },
          "execution_count": 21
        }
      ]
    },
    {
      "cell_type": "markdown",
      "metadata": {
        "id": "ehunNQnAtdMR"
      },
      "source": [
        "# Metodo Newton-Raphson con Biseccion"
      ]
    },
    {
      "cell_type": "code",
      "metadata": {
        "id": "JMLt3CR1tiA2",
        "colab": {
          "base_uri": "https://localhost:8080/"
        },
        "outputId": "3a46641a-8ea8-469d-f0a0-1202af78cae3"
      },
      "source": [
        "## module error\n",
        "## err(string).\n",
        "## Prints ’string’ and terminates program.\n",
        "import sys\n",
        "\n",
        "def err(string):\n",
        "  print(string)\n",
        "  input('Press return to exit')\n",
        "  sys.exit()\n",
        "\n",
        "\n",
        "## modulo newtonRaphson\n",
        "## raiz = newtonRaphson(f,df,a,b,tol=1.0e-9).\n",
        "## Encuentra la raiz de f(x) = 0 combinando Newton-Raphson\n",
        "## con biseccion. La raiz debe estar en el intervalo (a,b).\n",
        "## Los usuarios definen f(x) y su derivada df(x).\n",
        "##\n",
        "\n",
        "def newtonRaphson(f,df,a,b,tol=1.0e-9):\n",
        "  from numpy import sign\n",
        "  fa = f(a)\n",
        "  if fa == 0.0: return a\n",
        "  fb = f(b)\n",
        "  if fb == 0.0: return b\n",
        "  if sign(fa) == sign(fb): err('La raiz no esta en el intervalo')\n",
        "  x = 0.5*(a + b)\n",
        "  for i in range(30):\n",
        "    print(i)\n",
        "    fx = f(x)\n",
        "    if fx == 0.0: return x \n",
        "    if sign(fa) != sign(fx): b = x # Haz el intervalo mas pequeño\n",
        "    else: a = x\n",
        "    dfx = df(x)  \n",
        "    try: dx = -fx/dfx # Trata un paso con la expresion de Delta x\n",
        "    except ZeroDivisionError: dx = b - a # Si division diverge, intervalo afuera\n",
        "    x = x + dx # avanza en x\n",
        "    if (b - x)*(x - a) < 0.0: # Si el resultado esta fuera, usa biseccion\n",
        "      dx = 0.5*(b - a)\n",
        "      x = a + dx \n",
        "    if abs(dx) < tol*max(abs(b),1.0): return x # Checa la convergencia y sal\n",
        "  print('Too many iterations in Newton-Raphson')\n",
        "\n",
        "\n",
        "def f(x): return x**2 - 1\n",
        "def df(x): return 2*x\n",
        "root = newtonRaphson(f,df,-5.0,0)\n",
        "print('Root =',root)"
      ],
      "execution_count": null,
      "outputs": [
        {
          "output_type": "stream",
          "text": [
            "0\n",
            "1\n",
            "2\n",
            "3\n",
            "4\n",
            "5\n",
            "Root = -1.0\n"
          ],
          "name": "stdout"
        }
      ]
    },
    {
      "cell_type": "markdown",
      "metadata": {
        "id": "wtdzR2-EBFH-"
      },
      "source": [
        "# Newton-Raphson sencillo (ejemplo con raices degeneradas)"
      ]
    },
    {
      "cell_type": "code",
      "metadata": {
        "id": "f_rdRmnw_bP6",
        "colab": {
          "base_uri": "https://localhost:8080/",
          "height": 295
        },
        "outputId": "45a6e0f8-49c9-49bd-cb4e-ed374637d35a"
      },
      "source": [
        "import matplotlib.pyplot as plt\n",
        "import numpy as np\n",
        "\n",
        "\n",
        "ax = plt.subplot(111)\n",
        "\n",
        "t = np.arange(0.0, 5.0, 0.25)\n",
        "s = t**4 - 6.4*t**3 + 6.45*t**2 + 20.538*t - 31.752\n",
        "line, = plt.plot(t, s, lw=2)\n",
        "\n",
        "plt.annotate('raiz', xy=(2.0,0.0), xytext=(3.0, 20.0),\n",
        "             arrowprops=dict(facecolor='black', shrink=0.05),\n",
        "             )\n",
        "\n",
        "\n",
        "plt.grid(True)\n",
        "plt.ylim(-40.0, 60.0)\n",
        "\n",
        "plt.title(\"y=x**4 - 6.4*x**3 + 6.45*x**2 + 20.538*x - 31.752\")\n",
        "plt.ylabel('y = f(x)')\n",
        "plt.xlabel('x')\n",
        "\n",
        "plt.savefig('raices-nr.png')"
      ],
      "execution_count": null,
      "outputs": [
        {
          "output_type": "display_data",
          "data": {
            "image/png": "[encoded data removed]",
            "text/plain": [
              "<Figure size 432x288 with 1 Axes>"
            ]
          },
          "metadata": {
            "tags": [],
            "needs_background": "light"
          }
        }
      ]
    },
    {
      "cell_type": "code",
      "metadata": {
        "id": "2pGUzGXEBMv8",
        "colab": {
          "base_uri": "https://localhost:8080/",
          "height": 122
        },
        "outputId": "a56866e5-a1c3-43a0-c146-d1243e229057"
      },
      "source": [
        "def f(x): return x**4 - 6.4*x**3 + 6.45*x**2 + 20.538*x - 31.752\n",
        "\n",
        "def df(x): return 4.0*x**3 - 19.2*x**2 + 12.9*x + 20.538\n",
        "\n",
        "def newtonRaphson(x,tol=1.0e-9):\n",
        "  for i in range(30):\n",
        "    dx = -f(x)/df(x)\n",
        "    x = x + dx\n",
        "    if abs(dx) < tol: return x,i\n",
        "  print('Too many iterations\\n')\n",
        "\n",
        "def newtonRaphsonDegen(x,tol=1.0e-9):\n",
        "  for i in range(30):\n",
        "    dx = -2*f(x)/df(x)\n",
        "    x = x + dx\n",
        "    if abs(dx) < tol: return x,i\n",
        "  print('Too many iterations\\n')\n",
        "\n",
        "root,numIter = newtonRaphson(2.0)\n",
        "\n",
        "rootd,numIterd = newtonRaphsonDegen(2.0)\n",
        "\n",
        "print('Root =',root)\n",
        "\n",
        "print('Number of iterations =',numIter)\n",
        "\n",
        "print('Root degen=',rootd)\n",
        "\n",
        "print('Number of iterations degen=',numIterd)\n",
        "\n",
        "input('Press return to exit')"
      ],
      "execution_count": null,
      "outputs": [
        {
          "output_type": "stream",
          "text": [
            "Root = 2.0999999786199406\n",
            "Number of iterations = 22\n",
            "Root degen= 2.100000000014807\n",
            "Number of iterations degen= 5\n",
            "Press return to exit\n"
          ],
          "name": "stdout"
        },
        {
          "output_type": "execute_result",
          "data": {
            "application/vnd.google.colaboratory.intrinsic+json": {
              "type": "string"
            },
            "text/plain": [
              "''"
            ]
          },
          "metadata": {
            "tags": []
          },
          "execution_count": 24
        }
      ]
    },
    {
      "cell_type": "markdown",
      "metadata": {
        "id": "8iaEOr_Gof0P"
      },
      "source": [
        "# Newton-Raphson para Sistema de Ecuaciones#\n",
        "Requiere informacion de modulos desarrollados para eliminacion de Gauss"
      ]
    },
    {
      "cell_type": "code",
      "metadata": {
        "id": "e4FlARzKol53",
        "colab": {
          "base_uri": "https://localhost:8080/",
          "height": 87
        },
        "outputId": "ddea9f5f-513b-4cc7-8d15-0a7d0531639f"
      },
      "source": [
        "## module error\n",
        "## err(string).\n",
        "## Prints ’string’ and terminates program.\n",
        "import sys\n",
        "\n",
        "def err(string):\n",
        "  print(string)\n",
        "  input('Press return to exit')\n",
        "  sys.exit()\n",
        "\n",
        "## module swap\n",
        "# swapRows(v,i,j).\n",
        "# Swaps rows i and j of a vector or matrix [v].\n",
        "# swapCols(v,i,j).\n",
        "#Swaps columns of matrix [v].\n",
        "\n",
        "def swapRows(v,i,j):\n",
        "  if len(v.shape) == 1:\n",
        "    v[i],v[j] = v[j],v[i]\n",
        "  else:\n",
        "    v[[i,j],:] = v[[j,i],:]\n",
        "\n",
        "def swapCols(v,i,j):\n",
        "  v[:,[i,j]] = v[:,[j,i]]\n",
        "\n",
        "## module gaussPivot\n",
        "# x = gaussPivot(a,b,tol=1.0e-12).\n",
        "# Solves [a]{x} = {b} by Gauss elimination with\n",
        "# scaled row pivoting\n",
        "\n",
        "import numpy as np\n",
        "#import swap\n",
        "#import error\n",
        "\n",
        "def gaussPivot(a,b,tol=1.0e-12):\n",
        "\n",
        "  n = len(b) \n",
        "  \n",
        "  # Set up scale factors\n",
        "  s = np.zeros(n)\n",
        "  for i in range(n):\n",
        "    s[i] = max(np.abs(a[i,:]))\n",
        "\n",
        "  for k in range(0,n-1): \n",
        "\n",
        "      # Row interchange, if needed\n",
        "      p = np.argmax(np.abs(a[k:n,k])/s[k:n]) + k\n",
        "      if abs(a[p,k]) < tol: error.err(\"Matrix is singular\")\n",
        "      if p != k:\n",
        "        swapRows(b,k,p)\n",
        "        swapRows(s,k,p)\n",
        "        swapRows(a,k,p)\n",
        "\n",
        "        # Elimination\n",
        "      for i in range(k+1,n):\n",
        "        if a[i,k] != 0.0:\n",
        "          lam = a[i,k]/a[k,k]\n",
        "          a[i,k+1:n] = a[i,k+1:n] - lam*a[k,k+1:n]\n",
        "          b[i] = b[i] - lam*b[k]\n",
        "            \n",
        "  if abs(a[n-1,n-1]) < tol: error.err(\"Matrix is singular\")\n",
        "\n",
        "  # Back substitution\n",
        "  b[n-1] = b[n-1]/a[n-1,n-1]\n",
        "  for k in range(n-2,-1,-1):\n",
        "    b[k] = (b[k] - np.dot(a[k,k+1:n],b[k+1:n]))/a[k,k]\n",
        "  return b\n",
        "\n",
        "\n",
        "## module newtonRaphson2\n",
        "\n",
        "# soln = newtonRaphson2(f,x,tol=1.0e-9).\n",
        "\n",
        "# Resuelve las ecuaciones simultaneas f(x) = 0 con el metodo\n",
        "# de Newton-Raphson, usando {x} como el valor inicial. \n",
        "# Nota que {f} y {x} son vectores.\n",
        "\n",
        "#import numpy as np\n",
        "#from gaussPivot import *\n",
        "import math\n",
        "\n",
        "def newtonRaphson2(f,x,tol=1.0e-9):\n",
        "  \n",
        "  def jacobian(f,x):\n",
        "    h = 1.0e-4\n",
        "    n = len(x)\n",
        "    jac = np.zeros((n,n))\n",
        "    f0 = f(x)\n",
        "    for i in range(n):\n",
        "      temp = x[i]\n",
        "      x[i] = temp + h\n",
        "      f1 = f(x)\n",
        "      x[i] = temp\n",
        "      jac[:,i] = (f1 - f0)/h\n",
        "    return jac,f0\n",
        "\n",
        "  for i in range(30):\n",
        "    jac,f0 = jacobian(f,x)\n",
        "    if math.sqrt(np.dot(f0,f0)/len(x)) < tol: return x\n",
        "    dx = gaussPivot(jac,-f0)\n",
        "    x = x + dx\n",
        "    if math.sqrt(np.dot(dx,dx)) < tol*max(max(abs(x)),1.0):\n",
        "      return x\n",
        "  print(\"Too many iterations\")\n",
        "\n",
        "##### Ejemplo 4.9\n",
        "def f(x):\n",
        "  f = np.zeros(len(x))\n",
        "  f[0] = math.sin(x[0]) + x[1]**2 + math.log(x[2]) - 7.0\n",
        "  f[1] = 3.0*x[0] + 2.0**x[1] - x[2]**3 + 1.0\n",
        "  f[2] = x[0] + x[1] + x[2] - 5.0\n",
        "  return f\n",
        "\n",
        "x = np.array([1.0, 1.0, 1.0])\n",
        "\n",
        "print(newtonRaphson2(f,x))\n",
        "\n",
        "input(\"\\nPress return to exit\")"
      ],
      "execution_count": null,
      "outputs": [
        {
          "output_type": "stream",
          "text": [
            "[0.59905376 2.3959314  2.00501484]\n",
            "\n",
            "Press return to exit\n"
          ],
          "name": "stdout"
        },
        {
          "output_type": "execute_result",
          "data": {
            "application/vnd.google.colaboratory.intrinsic+json": {
              "type": "string"
            },
            "text/plain": [
              "''"
            ]
          },
          "metadata": {
            "tags": []
          },
          "execution_count": 25
        }
      ]
    },
    {
      "cell_type": "markdown",
      "metadata": {
        "id": "9uDc6i7WdXvk"
      },
      "source": [
        "# Interpolación de Lagrange\n"
      ]
    },
    {
      "cell_type": "code",
      "metadata": {
        "colab": {
          "base_uri": "https://localhost:8080/"
        },
        "id": "sfSH2SVId4zY",
        "outputId": "e4e6de7e-0470-47de-9f4b-45f32cc84748"
      },
      "source": [
        "try:\n",
        "  x = [0, 20, 40, 60, 80, 100]\n",
        "  y = [26.0, 48.6, 61.6, 71.2, 74.8, 75.2]\n",
        "  z = [0, 20, 40, 60, 80, 100]\n",
        "  m = len(x)\n",
        "  n = m-1\n",
        "  xp = float(input('Enter x : '))\n",
        "  yp = 0\n",
        "  for i in range(n+1):\n",
        "    L = 1\n",
        "    for j in range(n+1):\n",
        "        if j != i:\n",
        "            L *= (xp - x[j])/(x[i] - x[j])\n",
        "    yp += y[i]*L\n",
        "    print('For x = %.1f, y = %.1f' % (xp,yp))\n",
        "except:\n",
        "  print('Please insert a valid number')\n",
        "  "
      ],
      "execution_count": null,
      "outputs": [
        {
          "output_type": "stream",
          "text": [
            "Enter x : 1\n",
            "For x = 1.0, y = 23.2\n",
            "For x = 1.0, y = 34.5\n",
            "For x = 1.0, y = 20.5\n",
            "For x = 1.0, y = 31.2\n",
            "For x = 1.0, y = 27.0\n",
            "For x = 1.0, y = 27.7\n"
          ],
          "name": "stdout"
        }
      ]
    },
    {
      "cell_type": "code",
      "metadata": {
        "colab": {
          "base_uri": "https://localhost:8080/",
          "height": 300
        },
        "id": "xheaUnbLeL-_",
        "outputId": "1a05e083-cb86-4e5e-eaed-f09d10d738cd"
      },
      "source": [
        "from scipy.interpolate import interp1d, lagrange\n",
        "import numpy as np\n",
        "import matplotlib.pyplot as plt\n",
        "\n",
        "t = np.arange(0., 76, 0.5)\n",
        "\n",
        "L=lagrange(x,y)\n",
        "print(L)\n",
        "L(50)\n",
        "plt.plot(t,L(t))\n",
        "plt.plot(x,y)\n",
        "plt.show()\n",
        "\n"
      ],
      "execution_count": null,
      "outputs": [
        {
          "output_type": "stream",
          "text": [
            "           5             4             3           2\n",
            "3.698e-08 x - 9.688e-06 x + 0.0009219 x - 0.04463 x + 1.725 x + 26\n"
          ],
          "name": "stdout"
        },
        {
          "output_type": "display_data",
          "data": {
            "image/png": "[encoded data removed]",
            "text/plain": [
              "<Figure size 432x288 with 1 Axes>"
            ]
          },
          "metadata": {
            "tags": [],
            "needs_background": "light"
          }
        }
      ]
    },
    {
      "cell_type": "markdown",
      "metadata": {
        "id": "xGr6s3l2ulJP"
      },
      "source": [
        "# Interpolacion con el Metodo de Newton "
      ]
    },
    {
      "cell_type": "markdown",
      "metadata": {
        "id": "DVAqxLqQdkRy"
      },
      "source": [
        ""
      ]
    },
    {
      "cell_type": "code",
      "metadata": {
        "id": "r32_kVvfvJYa"
      },
      "source": [
        "## modulo newtonPoly\n",
        "''' p = evalPoly(a,xData,x).\n",
        "Evalua el polinomio de Newton p(x). El vector de\n",
        "coeficientes {a} se calcula con coeffts.\n",
        "'''\n",
        "def evalPoly(a,xData,x):\n",
        "  n = len(xData) - 1 #grado del polinomio\n",
        "  p = a[n]\n",
        "  for k in range(1,n+1):\n",
        "    p = a[n-k] + (x -xData[n-k])*p\n",
        "  return p\n",
        "\n",
        "'''a = coeffts(xData,yData).\n",
        "Calcula los coeficientes del poliniomio de Newton.\n",
        "'''\n",
        "def coeffts(xData,yData):\n",
        "  m = len(xData) # numero de datos\n",
        "  a = yData.copy()\n",
        "  for k in range(1,m):\n",
        "    a[k:m] = (a[k:m] - a[k-1])/(xData[k:m] - xData[k-1])\n",
        "  return a"
      ],
      "execution_count": null,
      "outputs": []
    },
    {
      "cell_type": "code",
      "metadata": {
        "id": "imQ4vxD8urBl",
        "colab": {
          "base_uri": "https://localhost:8080/"
        },
        "outputId": "5574cc2f-0aa6-40f4-fb18-22b6c486b5ca"
      },
      "source": [
        "## modulo newtonPoly\n",
        "''' p = evalPoly(a,xData,x).\n",
        "Evalua el polinomio de Newton p(x). El vector de\n",
        "coeficientes {a} se calcula con coeffts.\n",
        "'''\n",
        "def evalPoly(a,xData,x):\n",
        "  n = len(xData) - 1 #grado del polinomio\n",
        "  p = a[n]\n",
        "  for k in range(1,n+1):\n",
        "    p = a[n-k] + (x -xData[n-k])*p\n",
        "  return p\n",
        "\n",
        "'''a = coeffts(xData,yData).\n",
        "Calcula los coeficientes del poliniomio de Newton.\n",
        "'''\n",
        "def coeffts(xData,yData):\n",
        "  m = len(xData) # numero de datos\n",
        "  a = yData.copy()\n",
        "  for k in range(1,m):\n",
        "    a[k:m] = (a[k:m] - a[k-1])/(xData[k:m] - xData[k-1])\n",
        "  return a\n",
        "\n",
        "\n",
        "#### Ejemplo\n",
        "import numpy as np\n",
        "import math\n",
        "import matplotlib.pyplot as plt\n",
        "\n",
        "xData = np.array([0.15,2.3,3.15,4.85,6.25,7.95])\n",
        "yData = np.array([4.79867,4.49013,4.2243,3.47313,2.66674,1.51909])\n",
        "a = coeffts(xData,yData)\n",
        "\n",
        "print('x     yInterp    yExact    Error(%)')\n",
        "print('-----------------------------------')\n",
        "for x in np.arange(0.0,8.1,0.5):\n",
        "  y = evalPoly(a,xData,x)\n",
        "  yExact = 4.8*math.cos(math.pi*x/20.0)\n",
        "  errorporcentual = (yExact - y)/yExact*100\n",
        "  print('{:3.1f} {:9.5f} {:9.5f} {:9.5f}'.format(x,y,yExact,errorporcentual))\n"
      ],
      "execution_count": null,
      "outputs": [
        {
          "output_type": "stream",
          "text": [
            "x     yInterp    yExact    Error(%)\n",
            "-----------------------------------\n",
            "0.0   4.80003   4.80000  -0.00052\n",
            "0.5   4.78518   4.78520   0.00052\n",
            "1.0   4.74088   4.74090   0.00057\n",
            "1.5   4.66736   4.66738   0.00032\n",
            "2.0   4.56507   4.56507   0.00010\n",
            "2.5   4.43462   4.43462   0.00002\n",
            "3.0   4.27683   4.27683   0.00006\n",
            "3.5   4.09267   4.09267   0.00016\n",
            "4.0   3.88327   3.88328   0.00023\n",
            "4.5   3.64994   3.64995   0.00021\n",
            "5.0   3.39411   3.39411   0.00010\n",
            "5.5   3.11735   3.11735  -0.00005\n",
            "6.0   2.82137   2.82137  -0.00013\n",
            "6.5   2.50799   2.50799  -0.00002\n",
            "7.0   2.17915   2.17915   0.00034\n",
            "7.5   1.83687   1.83688   0.00068\n",
            "8.0   1.48329   1.48328  -0.00027\n"
          ],
          "name": "stdout"
        }
      ]
    },
    {
      "cell_type": "code",
      "metadata": {
        "colab": {
          "base_uri": "https://localhost:8080/",
          "height": 281
        },
        "id": "8L3JENZAf4jd",
        "outputId": "dc68d7ad-06fa-4991-d7f0-129818558a41"
      },
      "source": [
        "#-----Plot fit----\n",
        "import numpy as np\n",
        "import matplotlib.pyplot as plt\n",
        "import math\n",
        "\n",
        "x = np.array([0.15,2.3,3.15,4.85,6.25,7.95])\n",
        "y = np.array([4.79867,4.49013,4.2243,3.47313,2.66674,1.51909])\n",
        "fit = np.polyfit(x, y,2)\n",
        "a = fit[0]\n",
        "b = fit[1]\n",
        "c = fit[2]\n",
        "fit_equation = a * np.square(x) + b * x + c\n",
        "\n",
        "#Plotting\n",
        "fig1 = plt.figure()\n",
        "ax1 = fig1.subplots()\n",
        "ax1.plot(x, fit_equation,color = 'r',alpha = 0.5, label = 'Polynomial fit')\n",
        "ax1.scatter(x, y, s = 5, color = 'b', label = 'Data points')\n",
        "ax1.set_title('Polynomial fit example')\n",
        "ax1.legend()\n",
        "plt.show()"
      ],
      "execution_count": null,
      "outputs": [
        {
          "output_type": "display_data",
          "data": {
            "image/png": "[encoded data removed]",
            "text/plain": [
              "<Figure size 432x288 with 1 Axes>"
            ]
          },
          "metadata": {
            "tags": [],
            "needs_background": "light"
          }
        }
      ]
    },
    {
      "cell_type": "markdown",
      "metadata": {
        "id": "tT_8hEbJlfG1"
      },
      "source": [
        "# Minimos cuadrados: ajuste polinomial"
      ]
    },
    {
      "cell_type": "code",
      "metadata": {
        "colab": {
          "base_uri": "https://localhost:8080/"
        },
        "id": "xgBIvFbmN2FZ",
        "outputId": "5342eafd-d631-4794-a0b1-bd7cb6da93f4"
      },
      "source": [
        "import numpy as np\n",
        "x = np.arange(6)\n",
        "y = np.array([2, 8, 14, 28, 39, 62],float)\n",
        "m = len(x)\n",
        "n = 3\n",
        "A = np.zeros((n+1, n+1))\n",
        "B = np.zeros(n+1)\n",
        "a = np.zeros(n+1)\n",
        "for row in range(n+1):\n",
        "    for col in range(n+1):\n",
        "        if row == 0 and col == 0:\n",
        "            A[row,col] = m\n",
        "            continue\n",
        "        A[row,col] = np.sum(x**(row+col))\n",
        "    B[row] = np.sum(x**row * y)\n",
        "\n",
        "a = np.linalg.solve(A, B)\n",
        "\n",
        "print ('The polynomial :')\n",
        "print('f(x) = \\t %f'%a[0])\n",
        "for i in range(1, n+1):\n",
        "    print('\\t %+f x^%d' % (a[i],i))\n"
      ],
      "execution_count": null,
      "outputs": [
        {
          "output_type": "stream",
          "text": [
            "The polynomial :\n",
            "f(x) = \t 1.928571\n",
            "\t +5.678571 x^1\n",
            "\t -0.000000 x^2\n",
            "\t +0.250000 x^3\n"
          ],
          "name": "stdout"
        }
      ]
    },
    {
      "cell_type": "code",
      "metadata": {
        "colab": {
          "base_uri": "https://localhost:8080/"
        },
        "id": "Woo0-i-yPPsJ",
        "outputId": "d54438e9-3141-4e0c-8e76-735c3751c14b"
      },
      "source": [
        "from scipy.stats import linregress\n",
        "print(linregress(x,y))"
      ],
      "execution_count": null,
      "outputs": [
        {
          "output_type": "stream",
          "text": [
            "LinregressResult(slope=11.628571428571428, intercept=-3.5714285714285694, rvalue=0.970686071609907, pvalue=0.0012763647733861755, stderr=1.4396711642679032)\n"
          ],
          "name": "stdout"
        }
      ]
    },
    {
      "cell_type": "code",
      "metadata": {
        "colab": {
          "base_uri": "https://localhost:8080/"
        },
        "id": "1QpJutKxP8kZ",
        "outputId": "6327138c-2aac-4b8e-a7bc-2d07604431e0"
      },
      "source": [
        "L = linregress(x,y)\n",
        "L.slope"
      ],
      "execution_count": null,
      "outputs": [
        {
          "output_type": "execute_result",
          "data": {
            "text/plain": [
              "11.628571428571428"
            ]
          },
          "metadata": {
            "tags": []
          },
          "execution_count": 34
        }
      ]
    },
    {
      "cell_type": "code",
      "metadata": {
        "id": "vM7aNvAgQOR6"
      },
      "source": [
        "from scipy import optimize\n",
        "def f(x, a0, a1):\n",
        "  return a0 + a1*x "
      ],
      "execution_count": null,
      "outputs": []
    },
    {
      "cell_type": "code",
      "metadata": {
        "colab": {
          "base_uri": "https://localhost:8080/",
          "height": 300
        },
        "id": "kVKCM9NVQbwU",
        "outputId": "30815bf0-0c8b-4556-d78a-d7f8c732c72e"
      },
      "source": [
        "import matplotlib.pyplot as plt\n",
        "params, params_covariance = optimize.curve_fit(f, x, y, p0=[2, 2])\n",
        "print(params)\n",
        "plt.scatter(x, y, label='Data')\n",
        "plt.plot(x, f(x, params[0], params[1]),\n",
        "         label='Fitted function')"
      ],
      "execution_count": null,
      "outputs": [
        {
          "output_type": "stream",
          "text": [
            "[-3.57142857 11.62857143]\n"
          ],
          "name": "stdout"
        },
        {
          "output_type": "execute_result",
          "data": {
            "text/plain": [
              "[<matplotlib.lines.Line2D at 0x7f498a2f41d0>]"
            ]
          },
          "metadata": {
            "tags": []
          },
          "execution_count": 36
        },
        {
          "output_type": "display_data",
          "data": {
            "image/png": "[encoded data removed]",
            "text/plain": [
              "<Figure size 432x288 with 1 Axes>"
            ]
          },
          "metadata": {
            "tags": [],
            "needs_background": "light"
          }
        }
      ]
    },
    {
      "cell_type": "code",
      "metadata": {
        "id": "x1EfwqsZljoT"
      },
      "source": [
        "## modulo polyFit\n",
        "''' c = polyFit(xData,yData,m).\n",
        "Regresa los coeficientes del polinomio\n",
        "p(x) = c[0] + c[1]x + c[2]xˆ2 +...+ c[m]xˆm\n",
        "que ajusta los datos dados en minimos cuadrados.\n",
        "'''\n",
        "import numpy as np\n",
        "\n",
        "def polyFit(xData,yData,m):\n",
        "  a = np.zeros((m+1,m+1))\n",
        "  b = np.zeros(m+1)\n",
        "  s = np.zeros(2*m+1)\n",
        "  for i in range(len(xData)):\n",
        "    temp = yData[i]\n",
        "    for j in range(m+1):\n",
        "      b[j] = b[j] + temp\n",
        "      temp = temp*xData[i]\n",
        "    temp = 1.0\n",
        "    for j in range(2*m+1):\n",
        "      s[j] = s[j] + temp\n",
        "      temp = temp*xData[i]\n",
        "  for i in range(m+1):\n",
        "    for j in range(m+1):\n",
        "      a[i,j] = s[i+j]\n",
        "  return gaussPivot(a,b)"
      ],
      "execution_count": null,
      "outputs": []
    },
    {
      "cell_type": "code",
      "metadata": {
        "id": "LJxCwfD_n_oX"
      },
      "source": [
        "## modulo stdDev\n",
        "''' sigma = stdDev(c,xData,yData).\n",
        "Calcula la desviacion estandar entre p(x)\n",
        "y los datos.\n",
        "'''\n",
        "import math\n",
        "\n",
        "def stdDev(c,xData,yData):\n",
        "  \n",
        "  def evalPoly(c,x):\n",
        "    m = len(c) - 1\n",
        "    p = c[m]\n",
        "    for j in range(m):\n",
        "      p = p*x + c[m-j-1]\n",
        "    return p\n",
        "    \n",
        "  n = len(xData) - 1\n",
        "  m = len(c) - 1\n",
        "  sigma = 0.0\n",
        "  for i in range(n+1):\n",
        "    p = evalPoly(c,xData[i])\n",
        "    sigma = sigma + (yData[i] - p)**2\n",
        "  sigma = math.sqrt(sigma/(n - m))\n",
        "  return sigma"
      ],
      "execution_count": null,
      "outputs": []
    },
    {
      "cell_type": "markdown",
      "metadata": {
        "id": "a1lDNgifVLAn"
      },
      "source": [
        "# Diferencias Finitas"
      ]
    },
    {
      "cell_type": "code",
      "metadata": {
        "colab": {
          "base_uri": "https://localhost:8080/"
        },
        "id": "SFlxPfbFNkaM",
        "outputId": "9b816587-798d-41df-d9bf-b89fb2ec143d"
      },
      "source": [
        "'''                                                                                                                                               \n",
        "Method: Forward Differences Approximation                                                                                                                                                                                                                           \n",
        "'''\n",
        "\n",
        "f = lambda x: 0.1*x**5 - 0.2*x**3 + 0.1*x - 0.2\n",
        "h = 0.05\n",
        "x = 0.1\n",
        "\n",
        "dff1 = (f(x+h) - f(x))/h\n",
        "dff2 = (f(x+2*h) - 2*f(x+h) + f(x))/h**2\n",
        "print((x,dff1))\n",
        "\n",
        "print('Solution by forward differences:')\n",
        "print('f\\'(%f) = %f'%(x,dff1))\n",
        "print('f\\'\\'(%f) = %f'%(x,dff2))\n"
      ],
      "execution_count": null,
      "outputs": [
        {
          "output_type": "stream",
          "text": [
            "(0.1, 0.09063187500000014)\n",
            "Solution by forward differences:\n",
            "f'(0.100000) = 0.090632\n",
            "f''(0.100000) = -0.172875\n"
          ],
          "name": "stdout"
        }
      ]
    },
    {
      "cell_type": "code",
      "metadata": {
        "colab": {
          "base_uri": "https://localhost:8080/"
        },
        "id": "oqeeSC1cN0Lo",
        "outputId": "5f227507-573f-4235-e3dd-e71d5c160606"
      },
      "source": [
        "def f(x):\n",
        "    return 0.1*x**5 - 0.2*x**3 + 0.1*x - 0.2\n",
        "h = 0.05\n",
        "x = 0.1\n",
        "\n",
        "# Forward differences approximation                                                                                                               \n",
        "dff1 = (f(x+h) - f(x))/h\n",
        "dff2 = (f(x+2*h) - 2*f(x+h) + f(x))/h**2\n",
        "print('Solution by forward differences:')\n",
        "print('f\\'(%f) = %f'%(x,dff1))\n",
        "print('f\\'\\'(%f) = %f'%(x,dff2))\n",
        "\n",
        "# Central differences approximation                                                                                                               \n",
        "dfc1 = (f(x+h)-f(x-h))/(2*h)\n",
        "dfc2 = (f(x+h)-2*f(x)+f(x-h))/h**2\n",
        "print('\\nSolution by central differences:')\n",
        "print('f\\'(%f) = %f'%(x,dfc1))\n",
        "print('f\\'\\'(%f) = %f'%(x,dfc2))\n",
        "\n",
        "# Backward differences approximation                                                                                                              \n",
        "dfb1 = (f(x)-f(x-h))/h\n",
        "dfb2 = (f(x)-2*f(x-h)+f(x-2*h))/h**2\n",
        "print('\\nSolution by backward differences:')\n",
        "print('f\\'(%f) = %f'%(x,dfb1))\n",
        "print('f\\'\\'(%f) = %f'%(x,dfb2))\n"
      ],
      "execution_count": null,
      "outputs": [
        {
          "output_type": "stream",
          "text": [
            "Solution by forward differences:\n",
            "f'(0.100000) = 0.090632\n",
            "f''(0.100000) = -0.172875\n",
            "\n",
            "Solution by central differences:\n",
            "f'(0.100000) = 0.093576\n",
            "f''(0.100000) = -0.117750\n",
            "\n",
            "Solution by backward differences:\n",
            "f'(0.100000) = 0.096519\n",
            "f''(0.100000) = -0.059625\n"
          ],
          "name": "stdout"
        }
      ]
    },
    {
      "cell_type": "code",
      "metadata": {
        "colab": {
          "base_uri": "https://localhost:8080/",
          "height": 279
        },
        "id": "d33qNS1XN9La",
        "outputId": "72fa6d8c-2ec5-43c1-81f9-418bc1cd2095"
      },
      "source": [
        "import numpy as np\n",
        "import matplotlib.pyplot as plt\n",
        "def f(x):\n",
        "    return 0.1*x**5 - 0.2*x**3 + 0.1*x - 0.2\n",
        "h = 0.05\n",
        "x = np.linspace(0,1,11)\n",
        "\n",
        "# Central differences approximation                                                                                                               \n",
        "dfc1 = (f(x+h) - f(x-h))/(2*h)\n",
        "dfc2 = (f(x+h) - 2*f(x) + f(x-h)) / h**2\n",
        "\n",
        "# Plotting results                                                                                                                                \n",
        "plt.plot(x,f(x),'-k', x,dfc1,'--b', x,dfc2,'-.r')\n",
        "plt.xlabel('x')\n",
        "plt.ylabel('y')\n",
        "plt.legend(['f(x)','f \\'(x)','f \\'\\'(x)'])\n",
        "plt.grid()\n",
        "plt.show()\n"
      ],
      "execution_count": null,
      "outputs": [
        {
          "output_type": "display_data",
          "data": {
            "image/png": "[encoded data removed]",
            "text/plain": [
              "<Figure size 432x288 with 1 Axes>"
            ]
          },
          "metadata": {
            "tags": [],
            "needs_background": "light"
          }
        }
      ]
    },
    {
      "cell_type": "code",
      "metadata": {
        "colab": {
          "base_uri": "https://localhost:8080/"
        },
        "id": "iO4pDwK4Oznz",
        "outputId": "1250d321-f375-41f6-efca-78f364da8b65"
      },
      "source": [
        "from scipy.misc import derivative\n",
        "f = lambda x: 0.1*x**5 - 0.2*x**3 + 0.1*x - 0.2\n",
        "y = derivative(f, 0.1, 0.05) # x0=0.1, dx=0.05, n=1 \n",
        "print(y)\n",
        "y2 = derivative(f, 0.1, 0.05,2) # n=2 for second order derivative\n",
        "print(y2)"
      ],
      "execution_count": null,
      "outputs": [
        {
          "output_type": "stream",
          "text": [
            "0.093575625\n",
            "-0.11774999999999422\n"
          ],
          "name": "stdout"
        }
      ]
    },
    {
      "cell_type": "markdown",
      "metadata": {
        "id": "Vkr50H2CFuM2"
      },
      "source": [
        "# Regla Trapezoidal Recursiva"
      ]
    },
    {
      "cell_type": "code",
      "metadata": {
        "id": "wQ25RrK1F0rl",
        "colab": {
          "base_uri": "https://localhost:8080/"
        },
        "outputId": "db20232c-3ba9-486c-8894-f5409baac8c9"
      },
      "source": [
        "## modulo regla trapezoidal recursiva\n",
        "'''Inew = trapecio_recursiva(f,a,b,Iold,k).\n",
        "Iold = Integral de f(x) de x = a hasta b calculada\n",
        "con la regla trapezoidal recursiva con 2ˆ(k-1) paneles.\n",
        "Inew = la misma integral calculada con 2ˆk paneles.\n",
        "'''\n",
        "def trapecio_recursiva(f,a,b,Iold,k):\n",
        "  if k == 1: Inew = (f(a) + f(b))*(b - a)/2.0\n",
        "  else:\n",
        "    n = 2**(k -2 ) # numero de nuevos puntos\n",
        "    h = (b - a)/n # espaciamiento de nuevos puntos\n",
        "    x = a + h/2.0\n",
        "    sum = 0.0\n",
        "    for i in range(n):\n",
        "      sum = sum + f(x)\n",
        "      x = x + h\n",
        "      Inew = (Iold + h*sum)/2.0\n",
        "  return Inew\n",
        "\n",
        "import math\n",
        "def f(x): return math.sqrt(x)*math.cos(x) \n",
        "Iold = 0.0\n",
        "for k in range(1,21):\n",
        "  Inew = trapecio_recursiva(f,0.0,math.pi,Iold,k)\n",
        "  if (k > 1) and (abs(Inew - Iold)) < 1.0e-6: break\n",
        "  Iold = Inew\n",
        "\n",
        "print('Integral =',Inew)\n",
        "print('nPanels =',2**(k-1))\n",
        "\n",
        "def g(x): return 2*x**2*math.cos(x**2)\n",
        "Iold = 0.0\n",
        "for k in range(1,21):\n",
        "  Inew = trapecio_recursiva(g,0.0,math.sqrt(math.pi),Iold,k)\n",
        "  if (k > 1) and (abs(Inew - Iold)) < 1.0e-6: break\n",
        "  Iold = Inew\n",
        "\n",
        "print('Integralnueva =',Inew)\n",
        "print('nPanelsnuevos =',2**(k-1))\n",
        "\n",
        "\n"
      ],
      "execution_count": null,
      "outputs": [
        {
          "output_type": "stream",
          "text": [
            "Integral = -0.8948316648532865\n",
            "nPanels = 32768\n",
            "Integralnueva = -0.8948315801170068\n",
            "nPanelsnuevos = 4096\n"
          ],
          "name": "stdout"
        }
      ]
    },
    {
      "cell_type": "markdown",
      "metadata": {
        "id": "Xy2V-PgUzRBP"
      },
      "source": [
        "# Cuadratura de Romberg (regla Trapezoidal + extrapolacion de Richardson)"
      ]
    },
    {
      "cell_type": "code",
      "metadata": {
        "id": "lj9bEvnPzb0U"
      },
      "source": [
        "## modulo regla trapezoidal recursiva\n",
        "'''Inew = trapecio_recursiva(f,a,b,Iold,k).\n",
        "Iold = Integral de f(x) de x = a hasta b calculada\n",
        "con la regla trapezoidal recursiva con 2ˆ(k-1) paneles.\n",
        "Inew = la misma integral calculada con 2ˆk paneles.\n",
        "'''\n",
        "def trapecio_recursiva(f,a,b,Iold,k):\n",
        "  if k == 1: Inew = (f(a) + f(b))*(b - a)/2.0\n",
        "  else:\n",
        "    n = 2**(k -2 ) # numero de nuevos puntos\n",
        "    h = (b - a)/n # espaciamiento de nuevos puntos\n",
        "    x = a + h/2.0\n",
        "    sum = 0.0\n",
        "    for i in range(n):\n",
        "      sum = sum + f(x)\n",
        "      x = x + h\n",
        "      Inew = (Iold + h*sum)/2.0\n",
        "  return Inew\n",
        "\n",
        "## modulo romberg\n",
        "'''I,nPanels = romberg(f,a,b,tol=1.0e-6).\n",
        "Integracion de Romberg para f(x) en el rango x = a-b.\n",
        "Regresa la integral y el numero de paneles usados.\n",
        "Utiliza la regla trapezoidal recursiva.\n",
        "'''\n",
        "\n",
        "import numpy as np\n",
        "\n",
        "def romberg(f,a,b,tol=1.0e-6):\n",
        "\n",
        "  def richardson(r,k):\n",
        "    for j in range(k-1,0,-1):\n",
        "      const = 4.0**(k-j)\n",
        "      r[j] = (const*r[j+1] - r[j])/(const - 1.0)\n",
        "    return r\n",
        "    \n",
        "  r = np.zeros(21)\n",
        "  r[1] = trapecio_recursiva(f,a,b,0.0,1)\n",
        "  r_old = r[1]\n",
        "  for k in range(2,21):\n",
        "    r[k] = trapecio_recursiva(f,a,b,r[k-1],k)\n",
        "    r = richardson(r,k)\n",
        "    if abs(r[1]-r_old) < tol*max(abs(r[1]),1.0):\n",
        "      return r[1],2**(k-1)\n",
        "    r_old = r[1]\n",
        "  print(\"La cuadratura de Romberg no converge\")"
      ],
      "execution_count": null,
      "outputs": []
    },
    {
      "cell_type": "markdown",
      "metadata": {
        "id": "LuwWYx-K0yLh"
      },
      "source": [
        "Ejemplo que ya habiamos resuelto con la regla trapezoidal recursiva pero que ahora podremos comparar con la Cuadratura de Romberg"
      ]
    },
    {
      "cell_type": "code",
      "metadata": {
        "id": "X-xZBjpu05a1",
        "colab": {
          "base_uri": "https://localhost:8080/"
        },
        "outputId": "8df590ea-38d2-474c-94cc-1c5bb1ae7ed3"
      },
      "source": [
        "import math\n",
        "def g(x): return math.sqrt(x)*math.cos(x)\n",
        "#def g(x): return 2*x**2*math.cos(x**2)\n",
        "\n",
        "I,n = romberg(g,0,math.sqrt(math.pi))\n",
        "print('Integral =',I)\n",
        "print('numEvals =',n)"
      ],
      "execution_count": null,
      "outputs": [
        {
          "output_type": "stream",
          "text": [
            "Integral = 0.6775790769862394\n",
            "numEvals = 8192\n"
          ],
          "name": "stdout"
        }
      ]
    },
    {
      "cell_type": "markdown",
      "metadata": {
        "id": "Hd16Apwg1WOF"
      },
      "source": [
        "Pasamos de necesitar 4096 paneles a solo 64 paneles!!!"
      ]
    },
    {
      "cell_type": "markdown",
      "metadata": {
        "id": "UCIFdVt-xbOl"
      },
      "source": [
        "# Polinomios de Legendre"
      ]
    },
    {
      "cell_type": "code",
      "metadata": {
        "colab": {
          "base_uri": "https://localhost:8080/"
        },
        "id": "FRhfD1EGxhMv",
        "outputId": "99e4cd94-4f3d-4c85-c67d-bd289727e134"
      },
      "source": [
        "from scipy.special import legendre\n",
        "n = 3\n",
        "Pn = legendre(n)\n",
        "Pn(0.2)\n",
        "\n",
        "\n"
      ],
      "execution_count": null,
      "outputs": [
        {
          "output_type": "execute_result",
          "data": {
            "text/plain": [
              "-0.27999999999999997"
            ]
          },
          "metadata": {
            "tags": []
          },
          "execution_count": 21
        }
      ]
    },
    {
      "cell_type": "code",
      "metadata": {
        "colab": {
          "base_uri": "https://localhost:8080/"
        },
        "id": "QXiwW2mYOtU_",
        "outputId": "705cf93c-0c61-4d5a-d12f-758ff115a87f"
      },
      "source": [
        "from scipy.special import legendre\n",
        "x = np.arange(-1,1,0.1) # en el rango (-1,1)\n",
        "y = Pn(x)\n",
        "y"
      ],
      "execution_count": null,
      "outputs": [
        {
          "output_type": "execute_result",
          "data": {
            "text/plain": [
              "array([-1.00000000e+00, -4.72500000e-01, -8.00000000e-02,  1.92500000e-01,\n",
              "        3.60000000e-01,  4.37500000e-01,  4.40000000e-01,  3.82500000e-01,\n",
              "        2.80000000e-01,  1.47500000e-01,  3.33066907e-16, -1.47500000e-01,\n",
              "       -2.80000000e-01, -3.82500000e-01, -4.40000000e-01, -4.37500000e-01,\n",
              "       -3.60000000e-01, -1.92500000e-01,  8.00000000e-02,  4.72500000e-01])"
            ]
          },
          "metadata": {
            "tags": []
          },
          "execution_count": 19
        }
      ]
    },
    {
      "cell_type": "code",
      "metadata": {
        "colab": {
          "base_uri": "https://localhost:8080/",
          "height": 268
        },
        "id": "MYW7SiQjykk-",
        "outputId": "10ba990c-2cb1-4479-d949-7b2bd885ddc8"
      },
      "source": [
        "#plot\n",
        "import matplotlib.pyplot as plt\n",
        "import numpy as np\n",
        "\n",
        "min = -1.0\n",
        "max = 1.0\n",
        "step = 0.05\n",
        "for n in range(6):\n",
        "    Pn = legendre(n)\n",
        "    x = np.arange(min,max+step,step)\n",
        "    y = Pn(x)\n",
        "    plt.plot(x, y)\n",
        "\n",
        "\n",
        "plt.xlim(-1.0,1.0)\n",
        "plt.ylim(-1.0,1.01)\n",
        "\n",
        "#plt.savefig('legendre_polynomes.png')\n",
        "plt.show()"
      ],
      "execution_count": null,
      "outputs": [
        {
          "output_type": "display_data",
          "data": {
            "image/png": "[encoded data removed]",
            "text/plain": [
              "<Figure size 432x288 with 1 Axes>"
            ]
          },
          "metadata": {
            "tags": [],
            "needs_background": "light"
          }
        }
      ]
    },
    {
      "cell_type": "markdown",
      "metadata": {
        "id": "uEkVTAdl23Uy"
      },
      "source": [
        "# Cuadratura Gauss - Legendre"
      ]
    },
    {
      "cell_type": "code",
      "metadata": {
        "id": "tYV-L1ZT20pr"
      },
      "source": [
        "## modulo nodosGauss\n",
        "''' x,A = nodosGauss(m,tol=10e-9)\n",
        "Calcula las abscisas nodales {x} y los pesos {A}\n",
        "de la Cuadratura Gauss-Legendre de m puntos.\n",
        "'''\n",
        "\n",
        "import math\n",
        "import numpy as np\n",
        "\n",
        "def nodosGauss(m,tol=10e-9):\n",
        "\n",
        "  def legendre(t,m):\n",
        "    p0 = 1.0; p1 = t\n",
        "    for k in range(1,m):\n",
        "      p = ((2.0*k + 1.0)*t*p1 - k*p0)/(1.0 + k )\n",
        "      p0 = p1; p1 = p\n",
        "    dp = m*(p0 - t*p1)/(1.0 - t**2)\n",
        "    return p,dp\n",
        "\n",
        "  A = np.zeros(m)\n",
        "  x = np.zeros(m)\n",
        "  nRoots = int((m + 1)/2)                      # Numero de raices no negativas\n",
        "  \n",
        "  for i in range(nRoots):\n",
        "    t = math.cos(math.pi*(i + 0.75)/(m + 0.5)) # Expresion raiz aprox\n",
        "    for j in range(30):\n",
        "      p,dp = legendre(t,m)                     # Metodo Newton-Raphson\n",
        "      dt = -p/dp; t = t + dt                   # Metodo Newton-Raphson\n",
        "      if abs(dt) < tol:\n",
        "        x[i] = t; x[m-i-1] = -t\n",
        "        A[i] = 2.0/(1.0 - t**2)/(dp**2)        # Expresion para pesos de Legendre\n",
        "        A[m-i-1] = A[i]\n",
        "        break\n",
        "  return x,A\n",
        "\n",
        "## modulo cuadraGaussLegen\n",
        "'''I = cuadraGaussLegen(f,a,b,m)\n",
        "Calcula la integral de f(x) de x = a hasta b\n",
        "con la cuadratura Gauss-Legendre de m nodos.\n",
        "'''\n",
        "\n",
        "def cuadraGaussLegen(f,a,b,m):\n",
        "  c1 = (b + a)/2.0\n",
        "  c2 = (b - a)/2.0\n",
        "  x,A = nodosGauss(m)\n",
        "#####  print('abscisa y peso:',x,A)\n",
        "  sum = 0.0\n",
        "  for i in range(len(x)):\n",
        "    sum = sum + A[i]*f(c1 + c2*x[i])\n",
        "  return c2*sum\n",
        "\n",
        "\n",
        "\n",
        "##### ejempĺo Integral de (sin(x)/x)^2 de 0 a pi\n",
        "\n",
        "#def f(x): return (math.sin(x)/x)**2\n",
        "def f(x): return (x/(np.exp(x)+1))**2\n",
        "a = 0.0; b = math.pi;\n",
        "\n",
        "Iexact = 1.41815\n",
        "\n",
        "for m in range(2,12):\n",
        "  I = cuadraGaussLegen(f,a,b,m)\n",
        "  if abs(I - Iexact) < 0.00001:\n",
        "    print('Numero de nodos =',m)\n",
        "    print('Integral =', cuadraGaussLegen(f,a,b,m))\n",
        "    break\n"
      ],
      "execution_count": null,
      "outputs": []
    },
    {
      "cell_type": "code",
      "metadata": {
        "colab": {
          "base_uri": "https://localhost:8080/"
        },
        "id": "wNxVDBkk9ZzC",
        "outputId": "a14cec28-653c-4874-ad90-033ed0fbdd27"
      },
      "source": [
        "import numpy as np\n",
        "#Definamos la función para los nodos                                                                                                                                                                                                          \n",
        "def GaussNodes(m):\n",
        "    A=np.zeros(m)\n",
        "    x=np.zeros(m)\n",
        "    nRoots=(m+1)//2\n",
        "    for i in range(nRoots):\n",
        "        t=np.cos(np.pi*(i+0.75)/(m+0.5))#Raíz aproximada                                                                                                                                                                                      \n",
        "        for j in range(30):\n",
        "            p0=1\n",
        "            p1=t\n",
        "            for k in range(1,m):\n",
        "                p=((2*k+1)*t*p1-k*p0)/(1+k)\n",
        "                p0=p1\n",
        "                p1=p\n",
        "            dp=m*(p0-t*p1)/(1-t**2)\n",
        "            dt=-p/dp\n",
        "            t=t+dt\n",
        "            if abs(dt)<1e-7:\n",
        "                x[i]=t\n",
        "                x[m-i-1]=-t\n",
        "                A[i]=(2/(1.0-t**2))/(dp**2)\n",
        "                A[m-i-1]=A[i]\n",
        "                break\n",
        "    return x,A\n",
        "#Definimos la función que evalua la integral utilizando Gauss-Legendre                                                                                                                                                                        \n",
        "def GaussLegendre(f,a,b,m):\n",
        "    c1=(b+a)/2\n",
        "    c2=(b-a)/2\n",
        "    x,A=GaussNodes(m)\n",
        "    suma=0\n",
        "    for i in range(len(x)): \n",
        "        suma+=A[i]*f(c1+c2*x[i])\n",
        "    return c2*suma\n",
        "f= lambda x: np.log(x)/(x**2-2*x+2)\n",
        "I2=GaussLegendre(f,1,np.pi,2)\n",
        "I4=GaussLegendre(f,1,np.pi,4)\n",
        "print(\"La integral con 2 nodos es igual a %.4f\"%I2)\n",
        "print(\"La integral con 4 nodos es igual a %.4f\"%I4)\n"
      ],
      "execution_count": null,
      "outputs": [
        {
          "output_type": "stream",
          "text": [
            "La integral con 2 nodos es igual a 0.6067\n",
            "La integral con 4 nodos es igual a 0.5848\n"
          ],
          "name": "stdout"
        }
      ]
    },
    {
      "cell_type": "markdown",
      "metadata": {
        "id": "r_6KNGrh9tR5"
      },
      "source": [
        "# Integración Scipy\n",
        "\n",
        "Numerical integration functions are imported from scipy.integrate\n",
        "module. It contains several quadrature functions for different\n",
        "purposes. In this section, quad(), dblquad() and nquad() are\n",
        "applied to the examples solved above.\n",
        "\n",
        "For more information about scipy.integrate:\n",
        "https://docs.scipy.org/doc/scipy/reference/integrate.html"
      ]
    },
    {
      "cell_type": "code",
      "metadata": {
        "colab": {
          "base_uri": "https://localhost:8080/"
        },
        "id": "CcdiYxWb97ep",
        "outputId": "e4044068-c0a7-4ee0-f23b-53314e04ca70"
      },
      "source": [
        "from scipy.integrate import quad, dblquad, nquad\n",
        "from numpy import sin, pi\n",
        "f = lambda x: math.sqrt(x)*math.cos(x)\n",
        "print(quad(f, 0, pi))\n",
        "\n",
        "\"\"\"\n",
        "The function returns a tuple containing the value of integral and estimated absolute error. \n",
        "If the integral value is only required, \n",
        "the statement can be as following\n",
        "\"\"\"\n",
        "I, _ = quad(f, 0, pi)\n",
        "print (I)"
      ],
      "execution_count": null,
      "outputs": [
        {
          "output_type": "stream",
          "text": [
            "(-0.8948314694841447, 5.742084585591556e-11)\n",
            "-0.8948314694841447\n"
          ],
          "name": "stdout"
        }
      ]
    },
    {
      "cell_type": "code",
      "metadata": {
        "colab": {
          "base_uri": "https://localhost:8080/"
        },
        "id": "0KUHECQc_Ku2",
        "outputId": "4e61d275-05bd-48a9-8767-df93a190d0a2"
      },
      "source": [
        "\"\"\"\n",
        "Integrales 2D\n",
        "\n",
        "To explain the sequence of integration limits, variables\n",
        "ax, bx, ay and by are used. The limits of the outer\n",
        "integral should be given as constant lambda functions.\n",
        "The function returns a tuple containing the value of\n",
        "integral and estimated absolute error.\n",
        "\"\"\"\n",
        "fn = lambda x,y: x**2*y + x*y**2\n",
        "ax = 1; bx = 2; ay = -1; by = 1\n",
        "print(dblquad(fn, ax, bx, lambda y:ay, lambda y:by))\n"
      ],
      "execution_count": null,
      "outputs": [
        {
          "output_type": "stream",
          "text": [
            "(0.9999999999999999, 4.414734146837848e-14)\n"
          ],
          "name": "stdout"
        }
      ]
    },
    {
      "cell_type": "markdown",
      "metadata": {
        "id": "4Kgit8xUCc6W"
      },
      "source": [
        "# Eliminacion de Gauss"
      ]
    },
    {
      "cell_type": "code",
      "metadata": {
        "id": "D0xsjQCHCcQb"
      },
      "source": [
        "## modulo gaussElimin\n",
        "'''x = gaussElimin(a,b).\n",
        "  Resuelve [a]{x} = {b} por metodo eliminacion de Gauss.\n",
        "'''\n",
        "import numpy as np\n",
        "\n",
        "def gaussElimin(a,b):\n",
        "  n = len(b)\n",
        "  # Fase de eliminacion\n",
        "  for k in range(0,n-1):\n",
        "    for i in range(k+1,n):\n",
        "      if a[i,k] != 0.0:\n",
        "        lam = a [i,k]/a[k,k]\n",
        "        a[i,k+1:n] = a[i,k+1:n] - lam*a[k,k+1:n]\n",
        "        b[i] = b[i] - lam*b[k]\n",
        "  # Fase de sustitucion hacia atras\n",
        "  for k in range(n-1,-1,-1):\n",
        "    b[k] = (b[k] - np.dot(a[k,k+1:n],b[k+1:n]))/a[k,k]\n",
        "  return b\n",
        "\n"
      ],
      "execution_count": null,
      "outputs": []
    },
    {
      "cell_type": "markdown",
      "metadata": {
        "id": "8UV8t_PLApsh"
      },
      "source": [
        "Ejemplo Vandermode"
      ]
    },
    {
      "cell_type": "code",
      "metadata": {
        "id": "fgRGXw8wAo4C",
        "colab": {
          "base_uri": "https://localhost:8080/"
        },
        "outputId": "22e65a4b-323e-4253-d720-d9b86ccf1816"
      },
      "source": [
        "import numpy as np\n",
        "\n",
        "def gaussElimin(a,b):\n",
        "  n = len(b)\n",
        "  # Fase de eliminacion\n",
        "  for k in range(0,n-1):\n",
        "    for i in range(k+1,n):\n",
        "      if a[i,k] != 0.0:\n",
        "        lam = a [i,k]/a[k,k]\n",
        "        a[i,k+1:n] = a[i,k+1:n] - lam*a[k,k+1:n]\n",
        "        b[i] = b[i] - lam*b[k]\n",
        "  # Fase de sustitucion hacia atras\n",
        "  for k in range(n-1,-1,-1):\n",
        "    b[k] = (b[k] - np.dot(a[k,k+1:n],b[k+1:n]))/a[k,k]\n",
        "  return b\n",
        "\n",
        "### Funcion para matriz de coeficientes a partir de vector Vandermode\n",
        "def vandermode(v):\n",
        "  n = len(v)\n",
        "  a = np.zeros((n,n))\n",
        "  for j in range(n):\n",
        "    a[:,j] = v**(n-j-1)\n",
        "  return a\n",
        "\n",
        "### Vectores dados en ejemplo\n",
        "v = np.array([1.0, 1.2, 1.4, 1.6, 1.8, 2.0])\n",
        "b = np.array([0.0, 1.0, 0.0, 1.0, 0.0, 1.0])\n",
        "\n",
        "### Matriz de coeficientes\n",
        "a = vandermode(v)\n",
        "\n",
        "### Guarda una copia de la matriz y el vector original\n",
        "aOrig = a.copy() \n",
        "bOrig = b.copy() \n",
        "\n",
        "### Encuentra la solucion con eliminacion de Gauss\n",
        "x = gaussElimin(a,b)\n",
        "\n",
        "### Calcula el determinante de la matriz de coeficientes\n",
        "det = np.prod(np.diagonal(a))\n",
        "\n",
        "### Imprime la matriz de coeficientes\n",
        "print('\\n Matriz de coeficientes: A= \\n',aOrig)\n",
        "### Imprime el vector solucion\n",
        "print('\\n Vector solucion: x =\\n',x)\n",
        "### Imprime la determinante de la matriz de coeficientes\n",
        "print('\\n determinante =',det)\n",
        "### Imprime la verificacion del resultado\n",
        "print('\\nVerificacion del resultado: [a]{x} - b =\\n',np.dot(aOrig,x) - bOrig)"
      ],
      "execution_count": null,
      "outputs": [
        {
          "output_type": "stream",
          "text": [
            "\n",
            " Matriz de coeficientes: A= \n",
            " [[ 1.       1.       1.       1.       1.       1.     ]\n",
            " [ 2.48832  2.0736   1.728    1.44     1.2      1.     ]\n",
            " [ 5.37824  3.8416   2.744    1.96     1.4      1.     ]\n",
            " [10.48576  6.5536   4.096    2.56     1.6      1.     ]\n",
            " [18.89568 10.4976   5.832    3.24     1.8      1.     ]\n",
            " [32.      16.       8.       4.       2.       1.     ]]\n",
            "\n",
            " Vector solucion: x =\n",
            " [   416.66666667  -3125.00000004   9250.00000012 -13500.00000017\n",
            "   9709.33333345  -2751.00000003]\n",
            "\n",
            " determinante = -1.1324620799859046e-06\n",
            "\n",
            "Verificacion del resultado: [a]{x} - b =\n",
            " [ 0.00000000e+00  3.63797881e-12  7.27595761e-12  7.27595761e-12\n",
            " -5.45696821e-12  6.18456397e-11]\n"
          ],
          "name": "stdout"
        }
      ]
    },
    {
      "cell_type": "markdown",
      "metadata": {
        "id": "V6O9X9IxPxry"
      },
      "source": [
        "# Decomposicion LU - Doolittle"
      ]
    },
    {
      "cell_type": "code",
      "metadata": {
        "id": "cuy_-ZdjP2kB"
      },
      "source": [
        "## modulo LUdecomp - Doolittle\n",
        "''' \n",
        "a = LUdecomp(a)\n",
        "Fase de decomposicion LU: [L][U] = [a]\n",
        "x = LUsolve(a,b)\n",
        "Fase de solucion: [L][U]{x} = {b}\n",
        "'''\n",
        "import numpy as np\n",
        "\n",
        "def LUdecomp(a):\n",
        "  n = len(a)\n",
        "  for k in range(0,n-1):\n",
        "    for i in range(k+1,n):\n",
        "      if a[i,k] != 0.0:\n",
        "           lam = a [i,k]/a[k,k]\n",
        "           a[i,k+1:n] = a[i,k+1:n] - lam*a[k,k+1:n]\n",
        "           a[i,k] = lam\n",
        "  return a\n",
        "\n",
        "\n",
        "def LUsolve(a,b):\n",
        "  n = len(a)\n",
        "  for k in range(1,n):\n",
        "    b[k] = b[k] - np.dot(a[k,0:k],b[0:k])\n",
        "  b[n-1] = b[n-1]/a[n-1,n-1]\n",
        "  for k in range(n-2,-1,-1):\n",
        "    b[k] = (b[k] - np.dot(a[k,k+1:n],b[k+1:n]))/a[k,k]\n",
        "  return b"
      ],
      "execution_count": null,
      "outputs": []
    },
    {
      "cell_type": "markdown",
      "metadata": {
        "id": "61KcpaEYUfvl"
      },
      "source": [
        "Ejemplo con Doolittle"
      ]
    },
    {
      "cell_type": "code",
      "metadata": {
        "id": "5LEuZqNeUe7i",
        "colab": {
          "base_uri": "https://localhost:8080/"
        },
        "outputId": "07915e7d-fa97-4d72-e16e-60adda6d074c"
      },
      "source": [
        "## modulo LUdecomp - Doolittle\n",
        "\n",
        "import numpy as np\n",
        "\n",
        "def LUdecomp(a):\n",
        "  n = len(a)\n",
        "  for k in range(0,n-1):\n",
        "    for i in range(k+1,n):\n",
        "      if a[i,k] != 0.0:\n",
        "           lam = a [i,k]/a[k,k]\n",
        "           a[i,k+1:n] = a[i,k+1:n] - lam*a[k,k+1:n]\n",
        "           a[i,k] = lam\n",
        "  return a\n",
        "\n",
        "def LUsolve(a,b):\n",
        "  n = len(a)\n",
        "  for k in range(1,n):\n",
        "    b[k] = b[k] - np.dot(a[k,0:k],b[0:k])\n",
        "  b[n-1] = b[n-1]/a[n-1,n-1]\n",
        "  for k in range(n-2,-1,-1):\n",
        "    b[k] = (b[k] - np.dot(a[k,k+1:n],b[k+1:n]))/a[k,k]\n",
        "  return b\n",
        "\n",
        "##### Arreglos del ejemplo\n",
        "\n",
        "a = np.array([[ 3.0, -1.0, 4.0],\\\n",
        "              [-2.0, 0.0, 5.0],\\\n",
        "              [ 7.0, 2.0,-2.0]])\n",
        "b = np.array([[ 6.0, 3.0, 7.0],\\\n",
        "              [-4.0, 2.0, -5.0]])\n",
        "\n",
        "### Decomposici\\'on de a\n",
        "a = LUdecomp(a)\n",
        "\n",
        "### Determinante de a\n",
        "det = np.prod(np.diagonal(a))\n",
        "print(\"\\nDeterminante =\",det)\n",
        "\n",
        "### Solucion para cada columna de B\n",
        "for i in range(len(b)):\n",
        "  x = LUsolve(a,b[i])\n",
        "  print(\"Solucion x_\",i+1,\"=\",x)\n",
        "\n"
      ],
      "execution_count": null,
      "outputs": [
        {
          "output_type": "stream",
          "text": [
            "\n",
            "Determinante = -77.0\n",
            "Solucion x_ 1 = [1. 1. 1.]\n",
            "Solucion x_ 2 = [-1.00000000e+00  1.00000000e+00  2.30695693e-17]\n"
          ],
          "name": "stdout"
        }
      ]
    },
    {
      "cell_type": "code",
      "metadata": {
        "id": "_OjCxtkbEivD"
      },
      "source": [
        "## modulo LUdecomp3\n",
        "''' c,d,e = LUdecomp3(c,d,e).\n",
        "Decomposicion LU de la matriz tridiagonal [c\\d\\e]. La salida\n",
        "{c},{d} y {e} son las diagonales de la matriz decompuesta.\n",
        "x = LUsolve(c,d,e,b).\n",
        "Resuelve [c\\d\\e]{x} = {b}, donde {c}, {d} y {e} son los vectores\n",
        "que da LUdecomp3.\n",
        "'''\n",
        "\n",
        "def LUdecomp3(c,d,e):\n",
        "  n = len(d)\n",
        "  for k in range(1,n):\n",
        "    lam = c[k-1]/d[k-1]\n",
        "    d[k] = d[k] - lam*e[k-1]\n",
        "    c[k-1] = lam\n",
        "  return c,d,e\n",
        "\n",
        "def LUsolve3(c,d,e,b):\n",
        "  n = len(d)\n",
        "  for k in range(1,n):\n",
        "    b[k] = b[k] - c[k-1]*b[k-1]\n",
        "  b[n-1] = b[n-1]/d[n-1]\n",
        "  for k in range(n-2,-1,-1):\n",
        "    b[k] = (b[k] - e[k]*b[k+1])/d[k]\n",
        "  return b"
      ],
      "execution_count": null,
      "outputs": []
    },
    {
      "cell_type": "markdown",
      "metadata": {
        "id": "DxWz-JT5EV1f"
      },
      "source": [
        "# Decomposicion LU - Doolittle - Tridiagonal"
      ]
    },
    {
      "cell_type": "code",
      "metadata": {
        "id": "nBVVFYPuFbBs",
        "colab": {
          "base_uri": "https://localhost:8080/"
        },
        "outputId": "fdc380f6-1d64-47ce-aac6-e92648a99076"
      },
      "source": [
        "def LUdecomp3(c,d,e):\n",
        "  n = len(d)\n",
        "  for k in range(1,n):\n",
        "    lam = c[k-1]/d[k-1]\n",
        "    d[k] = d[k] - lam*e[k-1]\n",
        "    c[k-1] = lam\n",
        "  return c,d,e\n",
        "\n",
        "def LUsolve3(c,d,e,b):\n",
        "  n = len(d)\n",
        "  for k in range(1,n):\n",
        "    b[k] = b[k] - c[k-1]*b[k-1]\n",
        "  b[n-1] = b[n-1]/d[n-1]\n",
        "  for k in range(n-2,-1,-1):\n",
        "    b[k] = (b[k] - e[k]*b[k+1])/d[k]\n",
        "  return b\n",
        "\n",
        "import numpy as np\n",
        "\n",
        "d = np.ones((5))*2.0\n",
        "c = np.ones((4))*(-1.0)\n",
        "b = np.array([5.0, -5.0, 4.0, -5.0, 5.0])\n",
        "e = c.copy()\n",
        "\n",
        "c,d,e = LUdecomp3(c,d,e)\n",
        "\n",
        "x = LUsolve3(c,d,e,b)\n",
        "\n",
        "print(\"\\nx =\\n\",x)\n"
      ],
      "execution_count": null,
      "outputs": [
        {
          "output_type": "stream",
          "text": [
            "\n",
            "x =\n",
            " [ 2. -1.  1. -1.  2.]\n"
          ],
          "name": "stdout"
        }
      ]
    },
    {
      "cell_type": "code",
      "metadata": {
        "id": "acV78hKrXYp8",
        "colab": {
          "base_uri": "https://localhost:8080/"
        },
        "outputId": "3f95d6a3-f2b2-482c-c126-994f7cc9e5eb"
      },
      "source": [
        "\n",
        "import numpy as np\n",
        "import math\n",
        "\n",
        "\n",
        "def fs(x): return round(math.exp(-x),6)\n",
        "def fo(x): return round(math.exp(-x),8)\n",
        "\n",
        "hData = np.array([0.64,0.32,0.16,0.08,0.04,0.02,0.01,0.005,0.0025,0.00125])\n",
        "m = len(hData) # numero de datos\n",
        "\n",
        "print('h          6-digitos    Error(%)   8-digitos    Error(%)')\n",
        "print('------------------------------------------------------------')\n",
        "for k in range(0,m):\n",
        "  xp= 1 + hData[k]\n",
        "  xm= 1 - hData[k]\n",
        "  x=1\n",
        "  fsdf = (fs(xp)- 2*fs(x) + fs(xm))/hData[k]**2\n",
        "  fodf = (fo(xp)- 2*fo(x) + fo(xm))/hData[k]**2\n",
        "  fexact = math.exp(-1.0)\n",
        "  errorporcentuals = (fsdf-fexact)/fexact*100\n",
        "  errorporcentualo = (fodf-fexact)/fexact*100\n",
        "  #print(hData[k],format(fsdf,'6.6f'),format(errorporcentuals,'2.2f'),format(fodf,'8.8f'),format(errorporcentualo,'2.2f'))\n",
        "  print('{:5.5f}     {:6.6f}     {:2.2f}     {:8.8f}     {:2.2f}'.format(hData[k],fsdf,errorporcentuals,fodf,errorporcentualo))\n"
      ],
      "execution_count": null,
      "outputs": [
        {
          "output_type": "stream",
          "text": [
            "h          6-digitos    Error(%)   8-digitos    Error(%)\n",
            "------------------------------------------------------------\n",
            "0.64000     0.380610     3.46     0.38060911     3.46\n",
            "0.32000     0.371035     0.86     0.37102939     0.86\n",
            "0.16000     0.368711     0.23     0.36866484     0.21\n",
            "0.08000     0.368281     0.11     0.36807656     0.05\n",
            "0.04000     0.368750     0.24     0.36793125     0.01\n",
            "0.02000     0.370000     0.58     0.36790000     0.01\n",
            "0.01000     0.380000     3.29     0.36790000     0.01\n",
            "0.00500     0.400000     8.73     0.36760000     -0.08\n",
            "0.00250     0.480000     30.48     0.36800000     0.03\n",
            "0.00125     1.280000     247.94     0.37120000     0.90\n"
          ],
          "name": "stdout"
        }
      ]
    },
    {
      "cell_type": "markdown",
      "metadata": {
        "id": "-8ehxCtvytAA"
      },
      "source": [
        "# Eliminacion de Gauss con Pivoteo Escalado"
      ]
    },
    {
      "cell_type": "code",
      "metadata": {
        "id": "t642YiIfyyA1"
      },
      "source": [
        "import numpy as np\n",
        "import sys\n",
        "\n",
        "## modulo error\n",
        "'''\n",
        "err(string). Imprime 'texto' y termina el programa.\n",
        "'''\n",
        "\n",
        "def err(string):\n",
        "  print(string)\n",
        "  input('Press return to exit')\n",
        "  sys.exit()\n",
        "\n",
        "\n",
        "## modulo swap\n",
        "''' \n",
        "swapRows(v,i,j). Intercambia renglones i y j de un arreglo [v].\n",
        "swapCols(v,i,j). Intercambia columnas i y j de un arreglo [v].\n",
        "'''\n",
        "\n",
        "def swapRows(v,i,j):\n",
        "  if len(v.shape) == 1:\n",
        "    v[i],v[j] = v[j],v[i]\n",
        "  else:\n",
        "    v[[i,j],:] = v[[j,i],:]\n",
        "\n",
        "def swapCols(v,i,j):\n",
        "  v[:,[i,j]] = v[:,[j,i]]\n",
        "\n",
        "\n",
        "## modulo gaussPivot\n",
        "''' x = gaussPivot(a,b,tol=1.0e-12).\n",
        "Resuelve [a]{x} = {b} con eliminacion de Gauss\n",
        "y pivoteo escalado\n",
        "'''\n",
        "\n",
        "def gaussPivot(a,b,tol=1.0e-12):\n",
        "  n = len(b)\n",
        "\n",
        "  # Construye los factores de escala\n",
        "  s = np.zeros(n)\n",
        "  for i in range(n):\n",
        "    s[i] = max(np.abs(a[i,:]))\n",
        "    \n",
        "\n",
        "  for k in range(0,n-1):\n",
        "    \n",
        "    # Si es necesario, intercambia renglones\n",
        "    p = np.argmax(np.abs(a[k:n,k])/s[k:n]) + k\n",
        "    if abs(a[p,k]) < tol: error.err('La matriz es singular')\n",
        "    if p != k:\n",
        "      swap.swapRows(b,k,p)\n",
        "      swap.swapRows(s,k,p)\n",
        "      swap.swapRows(a,k,p)\n",
        "      \n",
        "    # Fase de eliminacion\n",
        "    for i in range(k+1,n):\n",
        "      if a[i,k] != 0.0:\n",
        "        lam = a[i,k]/a[k,k]\n",
        "        a[i,k+1:n] = a[i,k+1:n] - lam*a[k,k+1:n]\n",
        "        b[i] = b[i] - lam*b[k]\n",
        "  if abs(a[n-1,n-1]) < tol: error.err('La matriz es singular')\n",
        "\n",
        "  # Fase de sustitucion hacia atras\n",
        "  b[n-1] = b[n-1]/a[n-1,n-1]\n",
        "  for k in range(n-2,-1,-1):\n",
        "    b[k] = (b[k] - np.dot(a[k,k+1:n],b[k+1:n]))/a[k,k]\n",
        "  return b"
      ],
      "execution_count": null,
      "outputs": []
    },
    {
      "cell_type": "markdown",
      "metadata": {
        "id": "GyjJ0sssu8vE"
      },
      "source": [
        "# Metodo Iterativo Gauss-Seidel"
      ]
    },
    {
      "cell_type": "code",
      "metadata": {
        "id": "grweGXLUvHE-"
      },
      "source": [
        "## modulo gaussSeidel\n",
        "''' x,numIter,omega = gaussSeidel(iterEqs,x,tol = 1.0e-9)\n",
        "Metodo Gauss-Seidel para resolver [A]{x} = {b}.\n",
        "La matriz [A] debe ser dispersa. El/La usuario va a declarar la \n",
        "funcion iterEqs(x,omega) que da la version mejorada de {x},\n",
        "a partir del valor actual de {x} (omega es el factor de relajacion).\n",
        "'''\n",
        "import numpy as np\n",
        "import math\n",
        "\n",
        "def gaussSeidel(iterEqs,x,tol = 1.0e-9):\n",
        "  omega = 1.0\n",
        "  k = 10\n",
        "  p = 1\n",
        "  for i in range(1,501):\n",
        "    xOld = x.copy()\n",
        "    x = iterEqs(x,omega)\n",
        "    dx = math.sqrt(np.dot(x-xOld,x-xOld))\n",
        "    if dx < tol: return x,i,omega\n",
        "    # Calcula el factor de relajacion despues de k+p iteraciones\n",
        "    if i == k: dx1 = dx\n",
        "    if i == k + p:\n",
        "      dx2 = dx\n",
        "      omega = 2.0/(1.0 + math.sqrt(1.0 - (dx2/dx1)**(1.0/p)))\n",
        "  print('Gauss-Seidel no converge')"
      ],
      "execution_count": null,
      "outputs": []
    },
    {
      "cell_type": "markdown",
      "metadata": {
        "id": "3Gi1s9oXwHL5"
      },
      "source": [
        "Elemplo con Matriz Tridiagonal Ciclica"
      ]
    },
    {
      "cell_type": "code",
      "metadata": {
        "id": "qIlOGj-_wK_e",
        "colab": {
          "base_uri": "https://localhost:8080/"
        },
        "outputId": "430abe4a-0af9-4bd0-ef0f-044e9cb205e8"
      },
      "source": [
        "import numpy as np\n",
        "import math\n",
        "\n",
        "def gaussSeidel(iterEqs,x,tol = 1.0e-9):\n",
        "  omega = 1.0\n",
        "  k = 10\n",
        "  p = 1\n",
        "  for i in range(1,501):\n",
        "    xOld = x.copy()\n",
        "    x = iterEqs(x,omega)\n",
        "    dx = math.sqrt(np.dot(x-xOld,x-xOld))\n",
        "    if dx < tol: return x,i,omega\n",
        "    # Calcula el factor de relajacion despues de k+p iteraciones\n",
        "    if i == k: dx1 = dx\n",
        "    if i == k + p:\n",
        "      dx2 = dx\n",
        "      omega = 2.0/(1.0 + math.sqrt(1.0 - (dx2/dx1)**(1.0/p)))\n",
        "  print('Gauss-Seidel no converge')\n",
        "\n",
        "#### Construccion de valores interpolados con la matriz del ejemplo.\n",
        "\n",
        "def iterEqs(x,omega):\n",
        "  n = len(x)\n",
        "  x[0] = omega*(x[1] - x[n-1])/2.0 + (1.0 - omega)*x[0]\n",
        "  for i in range(1,n-1):\n",
        "    x[i] = omega*(x[i-1] + x[i+1])/2.0 + (1.0 - omega)*x[i]\n",
        "  x[n-1] = omega*(1.0 - x[0] + x[n-2])/2.0 + (1.0 - omega)*x[n-1]\n",
        "  return x\n",
        "\n",
        "### El/La Usuaria da el numero de ecuaciones que tiene el SEL\n",
        "\n",
        "n = eval(input(\"Numero de ecuaciones ==> \")) \n",
        "\n",
        "### El valor de inicializacion del metodo iterativo es un vector de ceros\n",
        "\n",
        "x = np.zeros(n)\n",
        "\n",
        "### Implementacion del Metodo de Gauss-Seidel para el ejemplo\n",
        "\n",
        "x,numIter,omega = gaussSeidel(iterEqs,x)\n",
        "\n",
        "print(\"\\nNumero de iteraciones =\",numIter)\n",
        "print(\"\\nFactor de relajacion =\",omega)\n",
        "print(\"\\nLa solucion es:\\n\",x)"
      ],
      "execution_count": null,
      "outputs": [
        {
          "output_type": "stream",
          "text": [
            "Numero de ecuaciones ==> 20\n",
            "\n",
            "Numero de iteraciones = 259\n",
            "\n",
            "Factor de relajacion = 1.7054523107131407\n",
            "\n",
            "La solucion es:\n",
            " [-4.50000000e+00 -4.00000000e+00 -3.50000000e+00 -3.00000000e+00\n",
            " -2.50000000e+00 -2.00000000e+00 -1.50000000e+00 -9.99999997e-01\n",
            " -4.99999998e-01  2.14046747e-09  5.00000002e-01  1.00000000e+00\n",
            "  1.50000000e+00  2.00000000e+00  2.50000000e+00  3.00000000e+00\n",
            "  3.50000000e+00  4.00000000e+00  4.50000000e+00  5.00000000e+00]\n"
          ],
          "name": "stdout"
        }
      ]
    },
    {
      "cell_type": "markdown",
      "metadata": {
        "id": "XOdlZV6cx_dY"
      },
      "source": [
        "Vemos que la convergencia es muy lenta porque no es una matriz con dominancia en la diagonal. Podemos hacer que se calcule con una matriz que sea diagonalmente dominante y podemos alcanzar una convergencia mas rapida. Si cambiamos los elementos de la diagonal de 2 a 4, vemos que converge mucho mas rapido: pasa de 259 iteraciones a 17 iteraciones!!! :)"
      ]
    },
    {
      "cell_type": "code",
      "metadata": {
        "id": "vvh7Ram8yXLN",
        "colab": {
          "base_uri": "https://localhost:8080/"
        },
        "outputId": "32d11de3-1128-4d1b-aaac-ea292c2d46a9"
      },
      "source": [
        "import numpy as np\n",
        "import math\n",
        "\n",
        "def gaussSeidel(iterEqs,x,tol = 1.0e-9):\n",
        "  omega = 1.0\n",
        "  k = 10\n",
        "  p = 1\n",
        "  for i in range(1,501):\n",
        "    xOld = x.copy()\n",
        "    x = iterEqs(x,omega)\n",
        "    dx = math.sqrt(np.dot(x-xOld,x-xOld))\n",
        "    if dx < tol: return x,i,omega\n",
        "    # Calcula el factor de relajacion despues de k+p iteraciones\n",
        "    if i == k: dx1 = dx\n",
        "    if i == k + p:\n",
        "      dx2 = dx\n",
        "      omega = 2.0/(1.0 + math.sqrt(1.0 - (dx2/dx1)**(1.0/p)))\n",
        "  print('Gauss-Seidel no converge')\n",
        "\n",
        "#### Construccion de valores interpolados con la matriz del ejemplo.\n",
        "\n",
        "def iterEqs(x,omega):\n",
        "  n = len(x)\n",
        "  x[0] = omega*(x[1] - x[n-1])/4.0 + (1.0 - omega)*x[0]\n",
        "  for i in range(1,n-1):\n",
        "    x[i] = omega*(x[i-1] + x[i+1])/4.0 + (1.0 - omega)*x[i]\n",
        "  x[n-1] = omega*(1.0 - x[0] + x[n-2])/4.0 + (1.0 - omega)*x[n-1]\n",
        "  return x\n",
        "\n",
        "### El/La Usuaria da el numero de ecuaciones que tiene el SEL\n",
        "\n",
        "n = eval(input(\"Numero de ecuaciones ==> \")) \n",
        "\n",
        "### El valor de inicializacion del metodo iterativo es un vector de ceros\n",
        "\n",
        "x = np.zeros(n)\n",
        "\n",
        "### Implementacion del Metodo de Gauss-Seidel para el ejemplo\n",
        "\n",
        "x,numIter,omega = gaussSeidel(iterEqs,x)\n",
        "\n",
        "print(\"\\nNumero de iteraciones =\",numIter)\n",
        "print(\"\\nFactor de relajacion =\",omega)\n",
        "print(\"\\nLa solucion es:\\n\",x)"
      ],
      "execution_count": null,
      "outputs": [
        {
          "output_type": "stream",
          "text": [
            "Numero de ecuaciones ==> 20\n",
            "\n",
            "Numero de iteraciones = 17\n",
            "\n",
            "Factor de relajacion = 1.0976797558332922\n",
            "\n",
            "La solucion es:\n",
            " [-7.73502692e-02 -2.07259422e-02 -5.55349947e-03 -1.48805560e-03\n",
            " -3.98722685e-04 -1.06834865e-04 -2.86165330e-05 -7.63110391e-06\n",
            " -1.90779029e-06 -1.26437680e-11  1.90775820e-06  7.63105192e-06\n",
            "  2.86164512e-05  1.06834753e-04  3.98722562e-04  1.48805549e-03\n",
            "  5.55349941e-03  2.07259421e-02  7.73502692e-02  2.88675135e-01]\n"
          ],
          "name": "stdout"
        }
      ]
    },
    {
      "cell_type": "markdown",
      "metadata": {
        "id": "Pf47EMGsPanh"
      },
      "source": [
        "# Sis. Ec. Lin scipy"
      ]
    },
    {
      "cell_type": "code",
      "metadata": {
        "colab": {
          "base_uri": "https://localhost:8080/"
        },
        "id": "REctoLj1qkMH",
        "outputId": "b5713546-1d17-49bb-d460-abfdc9d01459"
      },
      "source": [
        "#The direct method by using the function solve():\n",
        "from scipy.linalg import solve, inv\n",
        "from numpy import array, dot\n",
        "a = array([[0, 7, -1, 3, 1], # Example 2\n",
        "[2, 3, 4, 1, 7],\n",
        "[6, 2, 0, 2, -1],\n",
        "[2, 1, 2, 0, 2],\n",
        "[3, 4, 1, -2, 1]],float)\n",
        "b = array([5, 7, 2, 3, 4], float)\n",
        "x = solve(a,b)\n",
        "print(x)"
      ],
      "execution_count": null,
      "outputs": [
        {
          "output_type": "stream",
          "text": [
            "[0.02170543 0.79224806 1.05116279 0.15813953 0.03100775]\n"
          ],
          "name": "stdout"
        }
      ]
    },
    {
      "cell_type": "code",
      "metadata": {
        "colab": {
          "base_uri": "https://localhost:8080/"
        },
        "id": "OU8MojfTq1c4",
        "outputId": "15622698-92a9-4ba2-ef18-77b80238ec75"
      },
      "source": [
        "\"\"\"\n",
        "The inverse matrix multiplication method by using inv() and dot() functions\n",
        "he matrix multiplication function dot()belongs\n",
        "to the numpy module. The direct method is preferred\n",
        "because it returns solution in less number of matrix\n",
        "operations.\n",
        "\"\"\"\n",
        "from scipy.linalg import solve, inv\n",
        "from numpy import array, dot\n",
        "a = array([[0, 7, -1, 3, 1], # Example 2\n",
        "[2, 3, 4, 1, 7],\n",
        "[6, 2, 0, 2, -1],\n",
        "[2, 1, 2, 0, 2],\n",
        "[3, 4, 1, -2, 1]],float)\n",
        "b = array([5, 7, 2, 3, 4], float)\n",
        "x = dot(inv(a),b)\n",
        "print(x)"
      ],
      "execution_count": null,
      "outputs": [
        {
          "output_type": "stream",
          "text": [
            "[0.02170543 0.79224806 1.05116279 0.15813953 0.03100775]\n"
          ],
          "name": "stdout"
        }
      ]
    },
    {
      "cell_type": "markdown",
      "metadata": {
        "id": "Y7LQ3rOcTMwL"
      },
      "source": [
        "# Metodo de Integracion"
      ]
    },
    {
      "cell_type": "code",
      "metadata": {
        "colab": {
          "base_uri": "https://localhost:8080/",
          "height": 279
        },
        "id": "ZRGHWl-aYgOq",
        "outputId": "9f094518-293b-45f1-ead8-e22cec488c9f"
      },
      "source": [
        "import numpy as np\n",
        "\n",
        "######### Modulo de integracion de Euler\n",
        "\n",
        "def eulerint(F,x,y,xStop,h):\n",
        "  X = []\n",
        "  Y = []\n",
        "  X.append(x)\n",
        "  Y.append(y)\n",
        "  while x < xStop:\n",
        "    h = min(h,xStop - x)\n",
        "    y = y + h*F(x,y)\n",
        "    x = x + h\n",
        "    X.append(x)\n",
        "    Y.append(y)\n",
        "  return np.array(X),np.array(Y)\n",
        "\n",
        "######### Modulo de impresion\n",
        "\n",
        "def imprimeSol(X,Y,frecuencia):\n",
        "  \n",
        "  def imprimeCabeza(n):\n",
        "    print('\\n x ',end=' ')\n",
        "    for i in range (n):\n",
        "      print('y[',i,'] ',end=' ')\n",
        "      print()\n",
        "      \n",
        "  def imprimeLinea(x,y,n):\n",
        "    print('{:13.4e}'.format(x),end=' ')\n",
        "    for i in range (n):\n",
        "      print('{:13.4e}'.format(y[i]),end=' ')\n",
        "      print()\n",
        "      \n",
        "  m = len(Y)\n",
        "  try: n = len(Y[0])\n",
        "  except TypeError: n = 1\n",
        "  if frecuencia == 0: frecuencia = m\n",
        "  imprimeCabeza(n)\n",
        "  for i in range(0,m,frecuencia):\n",
        "    imprimeLinea(X[i],Y[i],n)\n",
        "  if i != m - 1: \n",
        "    imprimeLinea(X[m - 1],Y[m - 1],n)\n",
        "\n",
        "\n",
        "################################## Ejemplo\n",
        "\n",
        "import matplotlib.pyplot as plt\n",
        "\n",
        "def F(x,y):\n",
        "  F = np.zeros(2)\n",
        "  F[0] = y[1]\n",
        "  F[1] = -0.1*y[1] - x\n",
        "  return F\n",
        "\n",
        "x = 0.0 # Inicio de la integracion\n",
        "xStop = 2.0 # Fin de la integracion\n",
        "y = np.array([0.0, 1.0]) # Condicion inical para {y}\n",
        "h = 0.05 # Tamaño del paso\n",
        "X,Y = eulerint(F,x,y,xStop,h) #llamada de integrador\n",
        "yExact = 100.0*X - 5.0*X**2 + 990.0*(np.exp(-0.1*X) - 1.0) #sol exacta para comparar\n",
        "\n",
        "#grafica para mostrar comparativo entre sol. numerica y exacta\n",
        "plt.plot(X,Y[:,0],'o',X,yExact,'-')\n",
        "plt.grid(True)\n",
        "plt.xlabel('x'); plt.ylabel('y')\n",
        "plt.legend(('Sol. Numerica','Sol. Exacta'),loc=0)\n",
        "plt.show()\n"
      ],
      "execution_count": null,
      "outputs": [
        {
          "output_type": "display_data",
          "data": {
            "image/png": "[encoded data removed]",
            "text/plain": [
              "<Figure size 432x288 with 1 Axes>"
            ]
          },
          "metadata": {
            "tags": [],
            "needs_background": "light"
          }
        }
      ]
    },
    {
      "cell_type": "code",
      "metadata": {
        "colab": {
          "base_uri": "https://localhost:8080/",
          "height": 279
        },
        "id": "_d5UnnXjh7_k",
        "outputId": "26443762-df51-4761-e007-ea4e69577349"
      },
      "source": [
        "#Método de Runge-kutta 4to órden\n",
        "import numpy as np\n",
        "def integraterk4(F,x,y,xStop,h):\n",
        "  def runge_kutta4(F,x,y,h):\n",
        "    K0 = h*F(x,y)\n",
        "    K1 = h*F(x + h/2.0, y + K0/2.0)\n",
        "    K2 = h*F(x + h/2.0, y + K1/2.0)\n",
        "    K3 = h*F(x + h, y + K2)\n",
        "    return (K0 + 2.0*K1 + 2.0*K2 + K3)/6.0\n",
        "  X = []\n",
        "  Y = []\n",
        "  X.append(x)\n",
        "  Y.append(y)\n",
        "  while x < xStop:\n",
        "    h = min(h,xStop - x)\n",
        "    y = y + runge_kutta4(F,x,y,h)\n",
        "    x = x + h\n",
        "    X.append(x)\n",
        "    Y.append(y)\n",
        "  return np.array(X),np.array(Y)\n",
        "def F(x,y):\n",
        "  F=np.zeros(2)\n",
        "  F[0]=y[1]\n",
        "  F[1]=-0.1*y[1]-x\n",
        "  return F\n",
        "x=0.0; xStop = 2.0 # x inicial y final\n",
        "y=np.array([0.0, 1.0]); h = 0.05 # condiciones iniciales y espaciado entre x\n",
        "X,Y=integraterk4(F,x,y,xStop,h)\n",
        "yExact=100.0*X-5.0*X**2+990.0*(np.exp(-0.1*X)-1.0)\n",
        "plt.plot(X,Y[:,0],'ok',X,yExact,'-')\n",
        "plt.grid(True)\n",
        "plt.xlabel('x'); plt.ylabel('y')\n",
        "plt.legend(('Numerical','Exact'),loc=0)\n",
        "plt.show()"
      ],
      "execution_count": null,
      "outputs": [
        {
          "output_type": "display_data",
          "data": {
            "image/png": "[encoded data removed]",
            "text/plain": [
              "<Figure size 432x288 with 1 Axes>"
            ]
          },
          "metadata": {
            "tags": [],
            "needs_background": "light"
          }
        }
      ]
    },
    {
      "cell_type": "code",
      "metadata": {
        "id": "DLO0Yurw5X4w"
      },
      "source": [
        "import numpy as np\n",
        "## module printSoln\n",
        "''' printSoln(X,Y,freq).\n",
        "    Prints X and Y returned from the differential\n",
        "    equation solvers using printput frequency 'freq'.\n",
        "        freq = n prints every nth step.\n",
        "        freq = 0 prints initial and final values only.\n",
        "'''\n",
        "def printSoln(X,Y,freq):\n",
        "\n",
        "    def printHead(n):\n",
        "        print(\"\\n        x  \",end=\" \")\n",
        "        for i in range (n):\n",
        "            print(\"      y[\",i,\"] \",end=\" \")\n",
        "        print()\n",
        "\n",
        "    def printLine(x,y,n):\n",
        "        print(\"{:13.4e}\".format(x),end=\" \")\n",
        "        for i in range (n):\n",
        "            print(\"{:13.4e}\".format(y[i]),end=\" \")\n",
        "        print()\n",
        "    \n",
        "    m = len(Y)\n",
        "    try: n = len(Y[0])\n",
        "    except TypeError: n = 1\n",
        "    if freq == 0: freq = m\n",
        "    printHead(n)\n",
        "    for i in range(0,m,freq):\n",
        "        printLine(X[i],Y[i],n)\n",
        "    if i != m - 1: printLine(X[m - 1],Y[m - 1],n)\n"
      ],
      "execution_count": 4,
      "outputs": []
    },
    {
      "cell_type": "code",
      "metadata": {
        "id": "xcvgPJlT4ayj"
      },
      "source": [
        "## module run_kut5\n",
        "\n",
        "import math\n",
        "import numpy as np\n",
        "\n",
        "def integrate(F,x,y,xStop,h,tol=1.0e-6):\n",
        "    \n",
        "    a1 = 0.2; a2 = 0.3; a3 = 0.8; a4 = 8/9; a5 = 1.0\n",
        "    a6 = 1.0\n",
        "     \n",
        "    c0 = 35/384; c2 = 500/1113; c3 = 125/192 \n",
        "    c4 = -2187/6784; c5 = 11/84\n",
        "         \n",
        "    d0 = 5179/57600; d2 = 7571/16695; d3 = 393/640\n",
        "    d4 = -92097/339200; d5 = 187/2100; d6 = 1/40\n",
        "    \n",
        "    b10 = 0.2\n",
        "    b20 = 0.075; b21 = 0.225\n",
        "    b30 = 44/45; b31 = -56/15; b32 = 32/9\n",
        "    b40 = 19372/6561; b41 = -25360/2187; b42 = 64448/6561\n",
        "    b43 = -212/729\n",
        "    b50 = 9017/3168; b51 =-355/33; b52 = 46732/5247\n",
        "    b53 = 49/176; b54 = -5103/18656\n",
        "    b60 = 35/384; b62 = 500/1113; b63 = 125/192;\n",
        "    b64 = -2187/6784; b65 = 11/84\n",
        "\n",
        "    X = []\n",
        "    Y = []\n",
        "    X.append(x)\n",
        "    Y.append(y)\n",
        "    stopper = 0  # Integration stopper(0 = off, 1 = on)\n",
        "    k0 = h*F(x,y)\n",
        "\n",
        "    for i in range(10000):\n",
        "        k1 = h*F(x + a1*h, y + b10*k0)\n",
        "        k2 = h*F(x + a2*h, y + b20*k0 + b21*k1)\n",
        "        k3 = h*F(x + a3*h, y + b30*k0 + b31*k1 + b32*k2)\n",
        "        k4 = h*F(x + a4*h, y + b40*k0 + b41*k1 + b42*k2 + b43*k3)\n",
        "        k5 = h*F(x + a5*h, y + b50*k0 + b51*k1 + b52*k2 + b53*k3 \\\n",
        "               + b54*k4)\n",
        "        k6 = h*F(x + a6*h, y + b60*k0 + b62*k2 + b63*k3 + b64*k4 \\\n",
        "               + b65*k5)  \n",
        "        \n",
        "        dy = c0*k0 + c2*k2 + c3*k3 + c4*k4 + c5*k5\n",
        "        E = (c0 - d0)*k0 + (c2 - d2)*k2 + (c3 - d3)*k3  \\\n",
        "               + (c4 - d4)*k4 + (c5 - d5)*k5 - d6*k6    \n",
        "        e = math.sqrt(np.sum(E**2)/len(y))\n",
        "        hNext = 0.9*h*(tol/e)**0.2\n",
        "        \n",
        "      # Accept integration step if error e is within tolerance\n",
        "        if  e <= tol:\n",
        "            y = y + dy\n",
        "            x = x + h\n",
        "            X.append(x)\n",
        "            Y.append(y)  \n",
        "            if stopper == 1: break  # Reached end of x-range\n",
        "            if abs(hNext) > 10.0*abs(h): hNext = 10.0*h\n",
        "            \n",
        "          # Check if next step is the last one; if so, adjust h\n",
        "            if (h > 0.0) == ((x + hNext) >= xStop):\n",
        "                hNext = xStop - x\n",
        "                stopper = 1\n",
        "            k0 = k6*hNext/h\n",
        "        else:\n",
        "            if abs(hNext) < 0.1*abs(h): hNext = 0.1*h\n",
        "            k0 = k0*hNext/h\n",
        "        \n",
        "        h = hNext\n",
        "    return np.array(X),np.array(Y)"
      ],
      "execution_count": 5,
      "outputs": []
    },
    {
      "cell_type": "code",
      "metadata": {
        "colab": {
          "base_uri": "https://localhost:8080/",
          "height": 850
        },
        "id": "tyd8SNir7FLJ",
        "outputId": "8a729848-73d7-4020-ec4d-371551e8e4af"
      },
      "source": [
        "import numpy as np\n",
        "import matplotlib.pyplot as plt\n",
        "def F(x,y):\n",
        "  F = np.zeros(2)\n",
        "  F[0] = y[1]\n",
        "  F[1] = -4.75*y[0] - 10.0*y[1]\n",
        "  return F\n",
        "x = 0.0\n",
        "xStop = 10.0\n",
        "y = np.array([-9.0, 0.0])\n",
        "h = 0.1\n",
        "freq = 4\n",
        "X,Y = integrate(F,x,y,xStop,h)\n",
        "printSoln(X,Y,freq)\n",
        "printSoln(X,Y,freq)\n",
        "plt.plot(X,Y[:,0],'o-' ,X,Y[:,1], '^-' )\n",
        "plt.xlabel('x')\n",
        "plt.legend(('y ', 'dy/dx'),loc=0)\n",
        "plt.grid(True)\n",
        "plt.show()"
      ],
      "execution_count": 12,
      "outputs": [
        {
          "output_type": "stream",
          "text": [
            "\n",
            "        x         y[ 0 ]        y[ 1 ]  \n",
            "   0.0000e+00   -9.0000e+00    0.0000e+00 \n",
            "   7.7774e-02   -8.8988e+00    2.2999e+00 \n",
            "   1.6855e-01   -8.6314e+00    3.4083e+00 \n",
            "   2.7656e-01   -8.2370e+00    3.7933e+00 \n",
            "   4.0945e-01   -7.7311e+00    3.7735e+00 \n",
            "   5.8108e-01   -7.1027e+00    3.5333e+00 \n",
            "   8.2045e-01   -6.3030e+00    3.1497e+00 \n",
            "   1.2036e+00   -5.2043e+00    2.6021e+00 \n",
            "   2.0486e+00   -3.4110e+00    1.7055e+00 \n",
            "   3.5357e+00   -1.6216e+00    8.1081e-01 \n",
            "   4.9062e+00   -8.1724e-01    4.0862e-01 \n",
            "   6.3008e+00   -4.0694e-01    2.0347e-01 \n",
            "   7.7202e+00   -2.0012e-01    1.0006e-01 \n",
            "   9.1023e+00   -1.0028e-01    5.0137e-02 \n",
            "   1.0000e+01   -6.4010e-02    3.2005e-02 \n",
            "\n",
            "        x         y[ 0 ]        y[ 1 ]  \n",
            "   0.0000e+00   -9.0000e+00    0.0000e+00 \n",
            "   7.7774e-02   -8.8988e+00    2.2999e+00 \n",
            "   1.6855e-01   -8.6314e+00    3.4083e+00 \n",
            "   2.7656e-01   -8.2370e+00    3.7933e+00 \n",
            "   4.0945e-01   -7.7311e+00    3.7735e+00 \n",
            "   5.8108e-01   -7.1027e+00    3.5333e+00 \n",
            "   8.2045e-01   -6.3030e+00    3.1497e+00 \n",
            "   1.2036e+00   -5.2043e+00    2.6021e+00 \n",
            "   2.0486e+00   -3.4110e+00    1.7055e+00 \n",
            "   3.5357e+00   -1.6216e+00    8.1081e-01 \n",
            "   4.9062e+00   -8.1724e-01    4.0862e-01 \n",
            "   6.3008e+00   -4.0694e-01    2.0347e-01 \n",
            "   7.7202e+00   -2.0012e-01    1.0006e-01 \n",
            "   9.1023e+00   -1.0028e-01    5.0137e-02 \n",
            "   1.0000e+01   -6.4010e-02    3.2005e-02 \n"
          ],
          "name": "stdout"
        },
        {
          "output_type": "display_data",
          "data": {
            "image/png": "[encoded data removed]",
            "text/plain": [
              "<Figure size 432x288 with 1 Axes>"
            ]
          },
          "metadata": {
            "tags": [],
            "needs_background": "light"
          }
        }
      ]
    },
    {
      "cell_type": "code",
      "metadata": {
        "id": "rhEXrwsHtBgW"
      },
      "source": [
        "#Método de Ridder\n",
        "import math\n",
        "from numpy import sign\n",
        "\n",
        "def ridder(f,a,b,tol=1.0e-9):\n",
        "  fa = f(a)\n",
        "  if fa == 0.0: return a\n",
        "  fb = f(b)\n",
        "  if fb == 0.0: return b\n",
        "  if sign(fa)!= sign(fb): c=a; fc=fa\n",
        "  for i in range(30):\n",
        "# Compute the improved root x from Ridder’s formula\n",
        "      c = 0.5*(a + b); \n",
        "      fc = f(c)\n",
        "      s = math.sqrt(fc**2 - fa*fb)\n",
        "      if s == 0.0: return None\n",
        "      dx = (c - a)*fc/s\n",
        "      if (fa - fb) < 0.0: dx = -dx\n",
        "      x = c + dx; fx = f(x)\n",
        "# Test for convergence\n",
        "  if i > 0:\n",
        "     xOld = x\n",
        "     if abs(x - xOld) < tol*max(abs(x),1.0): return x\n",
        "# Re-bracket the root as tightly as possible\n",
        "  if sign(fc) == sign(fx):\n",
        "    if sign(fa)!= sign(fx): b = x; fb = fx\n",
        "    else: a = x; fa = fx\n",
        "  else:\n",
        "    a = c; b = x; fa = fc; fb = fx\n",
        "  return None\n",
        "  print('Too many iterations')\n"
      ],
      "execution_count": 7,
      "outputs": []
    },
    {
      "cell_type": "code",
      "metadata": {
        "colab": {
          "base_uri": "https://localhost:8080/"
        },
        "id": "uxhFs2A1wS8O",
        "outputId": "128153b0-42aa-47da-e5ec-40b2060a277f"
      },
      "source": [
        "# Ejemplos de uso de Metodo de Ridder\n",
        "\n",
        "def g(x): \n",
        "  a = (x - 0.3)**2 + 0.01\n",
        "  b = (x - 0.8)**2 + 0.04\n",
        "  return 1.0/a - 1.0/b\n",
        "\n",
        "\n",
        "x = ridder(g,0.0,1.0)\n",
        "print('La raiz es', '{:6.4f}'.format(x))"
      ],
      "execution_count": 8,
      "outputs": [
        {
          "output_type": "stream",
          "text": [
            "La raiz es 0.8964\n"
          ],
          "name": "stdout"
        }
      ]
    },
    {
      "cell_type": "code",
      "metadata": {
        "id": "ICjgiJrp4t39"
      },
      "source": [
        "## module linInterp\n",
        "''' root = linInterp(f,x1,x2).\n",
        "    Finds the zero of the linear function f(x) by straight\n",
        "    line interpolation based on x = x1 and x2.\n",
        "'''\n",
        "def linInterp(f,x1,x2):\n",
        "    f1 = f(x1)\n",
        "    f2 = f(x2)\n",
        "    return x2 - f2*(x2 - x1)/(f2 - f1)"
      ],
      "execution_count": 9,
      "outputs": []
    },
    {
      "cell_type": "code",
      "metadata": {
        "colab": {
          "base_uri": "https://localhost:8080/"
        },
        "id": "xoR6vPq749nD",
        "outputId": "6862d365-6c72-4c03-9e20-d889a0a92f6b"
      },
      "source": [
        "# Ejemplos de uso de Metodo de IntLineal\n",
        "\n",
        "def g(x): \n",
        "  a = (x - 0.3)**2 + 0.01\n",
        "  b = (x - 0.8)**2 + 0.04\n",
        "  return 1.0/a - 1.0/b\n",
        "\n",
        "\n",
        "x = linInterp(g,0.0,1.0)\n",
        "print('La raiz es', '{:6.4f}'.format(x))"
      ],
      "execution_count": 10,
      "outputs": [
        {
          "output_type": "stream",
          "text": [
            "La raiz es 0.4482\n"
          ],
          "name": "stdout"
        }
      ]
    },
    {
      "cell_type": "code",
      "metadata": {
        "colab": {
          "base_uri": "https://localhost:8080/",
          "height": 464
        },
        "id": "4hDUcv1n46qJ",
        "outputId": "7d0d306d-abbc-4fdd-f9cc-444e094ed342"
      },
      "source": [
        "#example8_1 EDO no lineal\n",
        "import matplotlib.pyplot as plt\n",
        "def initCond(u):  # Init. values of [y,y']; use 'u' if unknown\n",
        "    return np.array([0.0, u])  \n",
        "\n",
        "def r(u):         # Boundary condition residual--see Eq. (8.3)\n",
        "    X,Y = integrate(F,xStart,initCond(u),xStop,h)\n",
        "    y = Y[len(Y) - 1]\n",
        "    r = y[0] - 1.0 \n",
        "    return r\n",
        "\n",
        "def F(x,y):       # First-order differential equations\n",
        "    F = np.zeros(2)\n",
        "    F[0] = y[1]\n",
        "    F[1] = -3.0*y[0]*y[1]\n",
        "    return F\n",
        "\n",
        "xStart = 0.0        # Start of integration\n",
        "xStop = 2.0         # End of integration\n",
        "u1 = 1.0            # 1st trial value of unknown init. cond.\n",
        "u2 = 2.0            # 2nd trial value of unknown init. cond.\n",
        "h = 0.1             # Step size\n",
        "freq = 2            # Printout frequency\n",
        "u = ridder(r,u1,u2) # Compute the correct initial condition\n",
        "X,Y = integrate(F,xStart,initCond(u),xStop,h)\n",
        "printSoln(X,Y,freq)\n",
        "plt.plot(X,Y[:,0],'o-',X,Y[:,1],'^-')\n",
        "plt.xlabel('x')\n",
        "plt.legend(('y','dy/dx'),loc = 1)\n",
        "plt.grid(True)\n",
        "plt.show()\n",
        "#input(\"\\nPress return to exit\")\n"
      ],
      "execution_count": 13,
      "outputs": [
        {
          "output_type": "stream",
          "text": [
            "\n",
            "        x         y[ 0 ]        y[ 1 ]  \n",
            "   0.0000e+00    0.0000e+00    1.5143e+00 \n",
            "   2.1923e-01    3.2041e-01    1.3603e+00 \n",
            "   4.6695e-01    6.0963e-01    9.5683e-01 \n",
            "   7.0983e-01    7.9315e-01    5.7069e-01 \n",
            "   9.8013e-01    9.0523e-01    2.8515e-01 \n",
            "   1.2295e+00    9.5656e-01    1.4181e-01 \n",
            "   1.4820e+00    9.8195e-01    6.7970e-02 \n",
            "   1.7589e+00    9.9480e-01    2.9886e-02 \n",
            "   2.0000e+00    9.9993e-01    1.4522e-02 \n"
          ],
          "name": "stdout"
        },
        {
          "output_type": "display_data",
          "data": {
            "image/png": "[encoded data removed]",
            "text/plain": [
              "<Figure size 432x288 with 1 Axes>"
            ]
          },
          "metadata": {
            "tags": [],
            "needs_background": "light"
          }
        }
      ]
    },
    {
      "cell_type": "code",
      "metadata": {
        "colab": {
          "base_uri": "https://localhost:8080/",
          "height": 279
        },
        "id": "K4EOjzvp6IlT",
        "outputId": "7dd4fb5e-9e82-4aba-8dbe-8d2072ddc85a"
      },
      "source": [
        "#example8_3 EDO lineal\n",
        "import matplotlib.pyplot as plt\n",
        "def initCond(u):  # Initial values of [y,y',y\"];\n",
        "                  # use 'u' if unknown\n",
        "    return np.array([0.0, 0.0, u])  \n",
        "\n",
        "def r(u):  # Boundary condition residual--see Eq. (8.3)\n",
        "    X,Y = integrate(F,xStart,initCond(u),xStop,h)\n",
        "    y = Y[len(Y) - 1]\n",
        "    r = y[0] - 2.0  \n",
        "    return r\n",
        "\n",
        "def F(x,y):  # First-order differential equations                     \n",
        "    F = np.zeros(3)\n",
        "    F[0] = y[1]\n",
        "    F[1] = y[2]\n",
        "    F[2] = 2.0*y[2] + 6.0*x*y[0]\n",
        "    return F\n",
        "\n",
        "xStart = 5.0        # Start of integration\n",
        "xStop = 0.0         # End of integration\n",
        "u1 = 1.0            # 1st trial value of unknown init. cond.\n",
        "u2 = 2.0            # 2nd trial value of unknown init. cond.\n",
        "h = -0.1            # initial step size\n",
        "freq = 2            # printout frequency\n",
        "u = linInterp(r,u1,u2)\n",
        "X,Y = integrate(F,xStart,initCond(u),xStop,h)\n",
        "\n",
        "plt.plot(X,Y[:,0],'o-',X,Y[:,1],'^-')\n",
        "plt.xlabel('x')\n",
        "plt.legend(('y','dy/dx'),loc = 3)\n",
        "plt.grid(True)\n",
        "plt.show()\n",
        "#input(\"\\nPress return to exit\")"
      ],
      "execution_count": 15,
      "outputs": [
        {
          "output_type": "display_data",
          "data": {
            "image/png": "[encoded data removed]",
            "text/plain": [
              "<Figure size 432x288 with 1 Axes>"
            ]
          },
          "metadata": {
            "tags": [],
            "needs_background": "light"
          }
        }
      ]
    },
    {
      "cell_type": "markdown",
      "metadata": {
        "id": "ceSts162XuwO"
      },
      "source": [
        "# Metodo de Jacobi para problemas de eigenvalores (matrices simetricas)"
      ]
    },
    {
      "cell_type": "code",
      "metadata": {
        "id": "PEyL2yjbX0ic",
        "colab": {
          "base_uri": "https://localhost:8080/"
        },
        "outputId": "5203cce2-0a76-4516-e791-9d8c6d548a5a"
      },
      "source": [
        "## Modulo jacobi\n",
        "'''lam,x = jacobi(a,tol = 1.0e-8).\n",
        "En este modulo se resuelve el problema de eigenvalores [a]{x} = lam{x}\n",
        "usando el metodo de Jacobi. La funcion regresa los eigenvalores en el\n",
        "vector {lam} y los eigenvectores como columnas de la matriz [x].\n",
        "'''\n",
        "\n",
        "import numpy as np\n",
        "import math\n",
        "\n",
        "def jacobi(a,tol = 1.0e-8): #el usuario da la matriz a[i,j] y la tolerancia\n",
        "  \n",
        "  def threshold(a): #funcion que calcula los umbrales\n",
        "    sum = 0.0\n",
        "    for i in range(n-1):\n",
        "      for j in range (i+1,n):\n",
        "        sum = sum + abs(a[i,j])\n",
        "    return 0.5*sum/n/(n-1)\n",
        "    \n",
        "  def rotate(a,p,k,l): # funcion que rota hasta lograr a[k,l]=0\n",
        "    aDiff = a[l,l] - a[k,k]\n",
        "    if abs(a[k,l]) < abs(aDiff)*1.0e-36: t = a[k,l]/aDiff\n",
        "    else:\n",
        "      phi = aDiff/(2.0*a[k,l])\n",
        "      t = 1.0/(abs(phi) + math.sqrt(phi**2 + 1.0))\n",
        "      if phi < 0.0: t = -t\n",
        "    c = 1.0/math.sqrt(t**2 + 1.0); s = t*c\n",
        "    tau = s/(1.0 + c)\n",
        "    temp = a[k,l]\n",
        "    a[k,l] = 0.0\n",
        "    a[k,k] = a[k,k] - t*temp\n",
        "    a[l,l] = a[l,l] + t*temp\n",
        "    for i in range(k): # Caso i < k\n",
        "        temp = a[i,k]\n",
        "        a[i,k] = temp - s*(a[i,l] + tau*temp)\n",
        "        a[i,l] = a[i,l] + s*(temp - tau*a[i,l])\n",
        "    for i in range(k+1,l): # Caso k < i < l\n",
        "        temp = a[k,i]\n",
        "        a[k,i] = temp - s*(a[i,l] + tau*a[k,i])\n",
        "        a[i,l] = a[i,l] + s*(temp - tau*a[i,l])\n",
        "    for i in range(l+1,n): # Caso i > l\n",
        "        temp = a[k,i]\n",
        "        a[k,i] = temp - s*(a[l,i] + tau*temp)\n",
        "        a[l,i] = a[l,i] + s*(temp - tau*a[l,i])\n",
        "    for i in range(n): # Actualiza la matriz de transformacion\n",
        "        temp = p[i,k]\n",
        "        p[i,k] = temp - s*(p[i,l] + tau*p[i,k])\n",
        "        p[i,l] = p[i,l] + s*(temp - tau*p[i,l])\n",
        "                \n",
        "  n = len(a)\n",
        "  p = np.identity(n,float)\n",
        "  for k in range(20):\n",
        "    mu = threshold(a) # Calcula un nuevo umbral\n",
        "    for i in range(n-1): # Barrido de la matriz\n",
        "      for j in range(i+1,n):\n",
        "          if abs(a[i,j]) >= mu: #criterio de cero\n",
        "            rotate(a,p,i,j) # rotacion iterativa por toda la matriz\n",
        "    if mu <= tol: return np.diagonal(a),p #da los resultados con criterio tol\n",
        "  print('El metodod de Jacobi no converge')      \n",
        "\n",
        "## modulo swap - ya lo habiamos usado!\n",
        "\n",
        "def swapRows(v,i,j):\n",
        "  if len(v.shape) == 1:\n",
        "    v[i],v[j] = v[j],v[i]\n",
        "  else:\n",
        "    v[[i,j],:] = v[[j,i],:]\n",
        "\n",
        "def swapCols(v,i,j):\n",
        "  v[:,[i,j]] = v[:,[j,i]]\n",
        "\n",
        "\n",
        "## modulo ordenJacobi\n",
        "'''ordenJacobi(lam,x).\n",
        "Arregla los eigenvalores {lam} y eigenvectores [x]\n",
        "en orden ascendente de eigenvalores.\n",
        "'''\n",
        "\n",
        "def sortJacobi(lam,x):\n",
        "  n = len(lam)\n",
        "  for i in range(n-1):\n",
        "    index = i\n",
        "    val = lam[i]\n",
        "    for j in range(i+1,n):\n",
        "      if lam[j] < val:\n",
        "        index = j\n",
        "        val = lam[j]\n",
        "      if index != i:\n",
        "        swapRows(lam,i,index)\n",
        "        swapCols(x,i,index)\n",
        "\n",
        "\n",
        "##### Ejemplo\n",
        "\n",
        "import numpy as np\n",
        "import math\n",
        "\n",
        "A = np.array([[ 4.0, -2.0, 1.0, -1.0 ], [ -2.0, 4.0, -2.0, 1.0 ], [ 1.0, -2.0, 4.0, -2.0 ], [ -1.0, 1.0, -2.0, 4.0 ]])\n",
        "lam,X = jacobi(A)\n",
        "print('Eigenvalores de A:\\n',lam)\n",
        "print('Eigenvectores de A:\\n',X)\n",
        "#valor=sortJacobi(lam,X)\n",
        "#print('Eigenvalores ordenados de A:\\n',valor)"
      ],
      "execution_count": null,
      "outputs": [
        {
          "output_type": "stream",
          "text": [
            "Eigenvalores de A:\n",
            " [8.54138127 1.38196601 2.45861873 3.61803399]\n",
            "Eigenvectores de A:\n",
            " [[ 0.45705607  0.37174803 -0.5395366   0.60150095]\n",
            " [-0.5395366   0.60150096 -0.45705607 -0.37174803]\n",
            " [ 0.5395366   0.60150096  0.45705607 -0.37174803]\n",
            " [-0.45705607  0.37174803  0.5395366   0.60150096]]\n"
          ],
          "name": "stdout"
        }
      ]
    },
    {
      "cell_type": "code",
      "metadata": {
        "id": "NyEVz0ByWuuE"
      },
      "source": [
        ""
      ],
      "execution_count": null,
      "outputs": []
    },
    {
      "cell_type": "markdown",
      "metadata": {
        "id": "K4ZDXF-tu_fC"
      },
      "source": [
        "# Otras Pruebas"
      ]
    },
    {
      "cell_type": "code",
      "metadata": {
        "id": "uLI6oiSWnLY2",
        "colab": {
          "base_uri": "https://localhost:8080/",
          "height": 201
        },
        "outputId": "967bf684-4ae9-48a3-ffa6-3e3e2bd78b7c"
      },
      "source": [
        "## modulo plotPoly\n",
        "''' plotPoly(xData,yData,coeff,xlab='x',ylab='y')\n",
        "Grafica los datos y el polinomio de ajuste\n",
        "definido por sus coeficientes coeff = [a0, a1. ...]\n",
        "xlab, ylab son los rotulos de los ejes\n",
        "'''\n",
        "import numpy as np\n",
        "import matplotlib.pyplot as plt\n",
        "\n",
        "def plotPoly(xData,yData,coeff,xlab='x',ylab='y'):\n",
        "  m = len(coeff)\n",
        "  x1 = min(xData)\n",
        "  x2 = max(xData)\n",
        "  dx = (x2 - x1)/20.0\n",
        "  x = np.arange(x1,x2 + dx/10.0,dx)\n",
        "  y = np.zeros((len(x)))*1.0\n",
        "  for i in range(m):\n",
        "    y = y + coeff[i]*x**i\n",
        "  plt.plot(xData,yData,'o',x,y,'-')\n",
        "  plt.xlabel(xlab); plt.ylabel(ylab)\n",
        "  plt.grid (True)\n",
        "  plt.show()\n",
        "  #### Ejemplo\n",
        "\n",
        "xData = np.array([0.15,2.3,3.15,4.85,6.25,7.95])\n",
        "yData = np.array([4.79867,4.49013,4.2243,3.47313,2.66674,1.51909])\n",
        "a = coeffts(xData,yData)\n"
      ],
      "execution_count": null,
      "outputs": [
        {
          "output_type": "error",
          "ename": "TypeError",
          "evalue": "ignored",
          "traceback": [
            "\u001b[0;31m---------------------------------------------------------------------------\u001b[0m",
            "\u001b[0;31mTypeError\u001b[0m                                 Traceback (most recent call last)",
            "\u001b[0;32m<ipython-input-12-fa3a3bd782de>\u001b[0m in \u001b[0;36m<module>\u001b[0;34m()\u001b[0m\n\u001b[1;32m     25\u001b[0m \u001b[0mxData\u001b[0m \u001b[0;34m=\u001b[0m \u001b[0mnp\u001b[0m\u001b[0;34m.\u001b[0m\u001b[0marray\u001b[0m\u001b[0;34m(\u001b[0m\u001b[0;34m[\u001b[0m\u001b[0;36m0.15\u001b[0m\u001b[0;34m,\u001b[0m\u001b[0;36m2.3\u001b[0m\u001b[0;34m,\u001b[0m\u001b[0;36m3.15\u001b[0m\u001b[0;34m,\u001b[0m\u001b[0;36m4.85\u001b[0m\u001b[0;34m,\u001b[0m\u001b[0;36m6.25\u001b[0m\u001b[0;34m,\u001b[0m\u001b[0;36m7.95\u001b[0m\u001b[0;34m]\u001b[0m\u001b[0;34m)\u001b[0m\u001b[0;34m\u001b[0m\u001b[0;34m\u001b[0m\u001b[0m\n\u001b[1;32m     26\u001b[0m \u001b[0myData\u001b[0m \u001b[0;34m=\u001b[0m \u001b[0mnp\u001b[0m\u001b[0;34m.\u001b[0m\u001b[0marray\u001b[0m\u001b[0;34m(\u001b[0m\u001b[0;34m[\u001b[0m\u001b[0;36m4.79867\u001b[0m\u001b[0;34m,\u001b[0m\u001b[0;36m4.49013\u001b[0m\u001b[0;34m,\u001b[0m\u001b[0;36m4.2243\u001b[0m\u001b[0;34m,\u001b[0m\u001b[0;36m3.47313\u001b[0m\u001b[0;34m,\u001b[0m\u001b[0;36m2.66674\u001b[0m\u001b[0;34m,\u001b[0m\u001b[0;36m1.51909\u001b[0m\u001b[0;34m]\u001b[0m\u001b[0;34m)\u001b[0m\u001b[0;34m\u001b[0m\u001b[0;34m\u001b[0m\u001b[0m\n\u001b[0;32m---> 27\u001b[0;31m \u001b[0ma\u001b[0m \u001b[0;34m=\u001b[0m \u001b[0mcoeff\u001b[0m\u001b[0;34m(\u001b[0m\u001b[0mxData\u001b[0m\u001b[0;34m,\u001b[0m\u001b[0myData\u001b[0m\u001b[0;34m)\u001b[0m\u001b[0;34m\u001b[0m\u001b[0;34m\u001b[0m\u001b[0m\n\u001b[0m",
            "\u001b[0;31mTypeError\u001b[0m: 'numpy.ndarray' object is not callable"
          ]
        }
      ]
    },
    {
      "cell_type": "code",
      "metadata": {
        "id": "uhhjqhc3qTJC",
        "colab": {
          "base_uri": "https://localhost:8080/",
          "height": 436
        },
        "outputId": "95bcd5f0-6206-476e-b818-c59f8eb541a9"
      },
      "source": [
        "### Ejemplo\n",
        "\n",
        "#### Necesito varios modulos previos\n",
        "\n",
        "import numpy as np\n",
        "import sys\n",
        "\n",
        "## modulo error\n",
        "'''\n",
        "err(string). Imprime 'texto' y termina el programa.\n",
        "'''\n",
        "\n",
        "def err(string):\n",
        "  print(string)\n",
        "  input('Press return to exit')\n",
        "  sys.exit()\n",
        "\n",
        "\n",
        "## modulo swap\n",
        "''' \n",
        "swapRows(v,i,j). Intercambia renglones i y j de un arreglo [v].\n",
        "swapCols(v,i,j). Intercambia columnas i y j de un arreglo [v].\n",
        "'''\n",
        "\n",
        "def swapRows(v,i,j):\n",
        "  if len(v.shape) == 1:\n",
        "    v[i],v[j] = v[j],v[i]\n",
        "  else:\n",
        "    v[[i,j],:] = v[[j,i],:]\n",
        "\n",
        "def swapCols(v,i,j):\n",
        "  v[:,[i,j]] = v[:,[j,i]]\n",
        "\n",
        "\n",
        "## modulo gaussPivot\n",
        "''' x = gaussPivot(a,b,tol=1.0e-12).\n",
        "Resuelve [a]{x} = {b} con eliminacion de Gauss\n",
        "y pivoteo escalado\n",
        "'''\n",
        "\n",
        "def gaussPivot(a,b,tol=1.0e-12):\n",
        "  n = len(b)\n",
        "\n",
        "  # Construye los factores de escala\n",
        "  s = np.zeros(n)\n",
        "  for i in range(n):\n",
        "    s[i] = max(np.abs(a[i,:]))\n",
        "    \n",
        "\n",
        "  for k in range(0,n-1):\n",
        "    \n",
        "    # Si es necesario, intercambia renglones\n",
        "    p = np.argmax(np.abs(a[k:n,k])/s[k:n]) + k\n",
        "    if abs(a[p,k]) < tol: error.err('La matriz es singular')\n",
        "    if p != k:\n",
        "      swapRows(b,k,p)\n",
        "      swapRows(s,k,p)\n",
        "      swapRows(a,k,p)\n",
        "      \n",
        "    # Fase de eliminacion\n",
        "    for i in range(k+1,n):\n",
        "      if a[i,k] != 0.0:\n",
        "        lam = a[i,k]/a[k,k]\n",
        "        a[i,k+1:n] = a[i,k+1:n] - lam*a[k,k+1:n]\n",
        "        b[i] = b[i] - lam*b[k]\n",
        "  if abs(a[n-1,n-1]) < tol: error.err('La matriz es singular')\n",
        "\n",
        "  # Fase de sustitucion hacia atras\n",
        "  b[n-1] = b[n-1]/a[n-1,n-1]\n",
        "  for k in range(n-2,-1,-1):\n",
        "    b[k] = (b[k] - np.dot(a[k,k+1:n],b[k+1:n]))/a[k,k]\n",
        "  return b\n",
        "\n",
        "\n",
        "  ## modulo polyFit\n",
        "''' c = polyFit(xData,yData,m).\n",
        "Regresa los coeficientes del polinomio\n",
        "p(x) = c[0] + c[1]x + c[2]xˆ2 +...+ c[m]xˆm\n",
        "que ajusta los datos dados en minimos cuadrados.\n",
        "'''\n",
        "import numpy as np\n",
        "\n",
        "def polyFit(xData,yData,m):\n",
        "  a = np.zeros((m+1,m+1))\n",
        "  b = np.zeros(m+1)\n",
        "  s = np.zeros(2*m+1)\n",
        "  for i in range(len(xData)):\n",
        "    temp = yData[i]\n",
        "    for j in range(m+1):\n",
        "      b[j] = b[j] + temp\n",
        "      temp = temp*xData[i]\n",
        "    temp = 1.0\n",
        "    for j in range(2*m+1):\n",
        "      s[j] = s[j] + temp\n",
        "      temp = temp*xData[i]\n",
        "  for i in range(m+1):\n",
        "    for j in range(m+1):\n",
        "      a[i,j] = s[i+j]\n",
        "  return gaussPivot(a,b)\n",
        "\n",
        "  ## modulo stdDev\n",
        "''' sigma = stdDev(c,xData,yData).\n",
        "Calcula la desviacion estandar entre p(x)\n",
        "y los datos.\n",
        "'''\n",
        "import math\n",
        "\n",
        "def stdDev(c,xData,yData):\n",
        "  \n",
        "  def evalPoly(c,x):\n",
        "    m = len(c) - 1\n",
        "    p = c[m]\n",
        "    for j in range(m):\n",
        "      p = p*x + c[m-j-1]\n",
        "    return p\n",
        "    \n",
        "  n = len(xData) - 1\n",
        "  m = len(c) - 1\n",
        "  sigma = 0.0\n",
        "  for i in range(n+1):\n",
        "    p = evalPoly(c,xData[i])\n",
        "    sigma = sigma + (yData[i] - p)**2\n",
        "  sigma = math.sqrt(sigma/(n - m))\n",
        "  return sigma\n",
        "\n",
        "import matplotlib.pyplot as plt\n",
        "\n",
        "def plotPoly(xData,yData,coeff,xlab='x',ylab='y'):\n",
        "  m = len(coeff)\n",
        "  x1 = min(xData)\n",
        "  x2 = max(xData)\n",
        "  dx = (x2 - x1)/20.0\n",
        "  x = np.arange(x1,x2 + dx/10.0,dx)\n",
        "  y = np.zeros((len(x)))*1.0\n",
        "  for i in range(m):\n",
        "    y = y + coeff[i]*x**i\n",
        "  plt.plot(xData,yData,'o',x,y,'-')\n",
        "  plt.xlabel(xlab); plt.ylabel(ylab)\n",
        "  plt.grid (True)\n",
        "  plt.show()\n",
        "####################################\n",
        "\n",
        "xData = np.array([-0.04,0.93,1.95,2.90,3.83,5.0,5.98,7.05,8.21,9.08,10.09])\n",
        "yData = np.array([-8.66,-6.44,-4.36,-3.27,-0.88,0.87,3.31,4.63,6.19,7.4,8.85])\n",
        "\n",
        "while True:\n",
        "  try:\n",
        "    m = eval(input('\\nDegree of polynomial ==> '))\n",
        "    coeff = polyFit(xData,yData,m)\n",
        "    plotPoly(xData,yData,coeff,xlab='x',ylab='y')\n",
        "    print('Coefficients are:\\n',coeff)\n",
        "    print('Std. deviation =',stdDev(coeff,xData,yData))\n",
        "  except SyntaxError: break\n",
        "input('Finished. Press return to exit')"
      ],
      "execution_count": null,
      "outputs": [
        {
          "output_type": "stream",
          "text": [
            "\n",
            "Degree of polynomial ==> 2\n"
          ],
          "name": "stdout"
        },
        {
          "output_type": "display_data",
          "data": {
            "image/png": "[encoded data removed]",
            "text/plain": [
              "<Figure size 432x288 with 1 Axes>"
            ]
          },
          "metadata": {
            "tags": [],
            "needs_background": "light"
          }
        },
        {
          "output_type": "stream",
          "text": [
            "Coefficients are:\n",
            " [-8.57005662  2.15121691 -0.04197119]\n",
            "Std. deviation = 0.3109920728551074\n",
            "\n",
            "Degree of polynomial ==> \n",
            "Finished. Press return to exit\n"
          ],
          "name": "stdout"
        },
        {
          "output_type": "execute_result",
          "data": {
            "application/vnd.google.colaboratory.intrinsic+json": {
              "type": "string"
            },
            "text/plain": [
              "''"
            ]
          },
          "metadata": {
            "tags": []
          },
          "execution_count": 11
        }
      ]
    },
    {
      "cell_type": "code",
      "metadata": {
        "id": "0C27-vEm8M8z"
      },
      "source": [
        "# Programa que suma dos numeros (geeksforgeeks.org)\n",
        "\n",
        "num1 = 15\n",
        "num2 = 12\n",
        "\n",
        "# Suma los dos numeros \n",
        "sum = num1 + num2 \n",
        "\n",
        "# Imprime el resultado\n",
        "print(\"La suma de {0} and {1} es {2}\" .format(num1, num2, sum)) \n"
      ],
      "execution_count": null,
      "outputs": []
    },
    {
      "cell_type": "code",
      "metadata": {
        "id": "cLcYb5FJ9BWL"
      },
      "source": [
        "# Programa que suma dos numeros con input del usuario (geeksforgeeks.org)\n",
        "  \n",
        "number1 = input(\"Primer numero: \") \n",
        "number2 = input(\"\\nSegundo numero: \") \n",
        "  \n",
        "# Suma de los dos numeros que pueden ser flotantes\n",
        "sum = float(number1) + float(number2) \n",
        "  \n",
        "# Imprime la suma en flotante\n",
        "print(\"\\nLa suma de {0} y {1} es {2}\" .format(number1, number2, sum))"
      ],
      "execution_count": null,
      "outputs": []
    },
    {
      "cell_type": "code",
      "metadata": {
        "id": "WuZuon9oDivg"
      },
      "source": [
        "# Programa que encuentra la suma \n",
        "# del cuadrado de los primeros\n",
        "#  n numeros naturales\n",
        "# (geeksforgeeks.org, Nikita Tiwari)\n",
        "  \n",
        "# define la funcion que  \n",
        "# regresa la suma de los\n",
        "# cuadrados de los primeros n\n",
        "# numeros naturales\n",
        "def squaresum(n) : \n",
        "  \n",
        "    # Itera i de 1 hasta n+1 y\n",
        "    # encuentra el cuadrado de i \n",
        "    # y agregalo a la suma sm\n",
        "    # inicializada en 0\n",
        "    sm = 0\n",
        "    for i in range(1, n+1) : \n",
        "        sm = sm + (i * i) \n",
        "      \n",
        "    return sm \n",
        "  \n",
        "# hazlo para n=4\n",
        "n = 4\n",
        "# imprime el resultado\n",
        "print(squaresum(n)) \n",
        "  "
      ],
      "execution_count": null,
      "outputs": []
    },
    {
      "cell_type": "code",
      "metadata": {
        "id": "QBe9J64tm7gk"
      },
      "source": [
        "# Suma de los elementos de un arreglo\n",
        "# (geeksforgeeks.org, Himanshu Ranjan)\n",
        "\n",
        "# carga la libreria numpy\n",
        "import numpy as np\n",
        "\n",
        "# define funcion auxiliar\n",
        "def sumarreglo(arr,n): \n",
        "    \n",
        "  \t# return sum using sum \n",
        "  \t# inbuilt sum() function \n",
        "  \treturn np.sum(arr)\n",
        "\n",
        "# driver function \n",
        "arr=[] \n",
        "# input values to list \n",
        "arr = [12, 3, 4, 15] \n",
        "\n",
        "# calculating length of array \n",
        "n = len(arr) \n",
        "ans = sumarreglo(arr,n) \n",
        "\n",
        "# display sum \n",
        "print ('La suma de los elementos del arreglo es', ans)\n"
      ],
      "execution_count": null,
      "outputs": []
    },
    {
      "cell_type": "code",
      "metadata": {
        "id": "lHHmdQfXxKTt"
      },
      "source": [
        "# Version simplificada del anterior:\n",
        "\n",
        "import numpy as np\n",
        "\n",
        "array1 = np.array(\n",
        "    [[1, 2],\n",
        "     [3, 4],\n",
        "     [5, 6]])\n",
        "\n",
        "total = np.sum(array1)\n",
        "\n",
        "# nota la manera de imprimir con formato\n",
        "\n",
        "print(f'La suma de todos los elementos del arreglo es {total}')"
      ],
      "execution_count": null,
      "outputs": []
    },
    {
      "cell_type": "code",
      "metadata": {
        "id": "PI_EO6sbodAF"
      },
      "source": [
        ""
      ],
      "execution_count": null,
      "outputs": []
    },
    {
      "cell_type": "code",
      "metadata": {
        "id": "bO9i2lUyPm82",
        "colab": {
          "base_uri": "https://localhost:8080/"
        },
        "outputId": "17d24238-24e9-40a1-c844-1aabe0defec7"
      },
      "source": [
        "import numpy as np\n",
        "#20x + 10y = 350\n",
        "#17x + 22y = 500\n",
        "\n",
        "A = np.array([[20, 10], [17, 22]])\n",
        "B = np.array([350, 500])\n",
        "x = np.linalg.solve(A,B)\n",
        "\n",
        "print(x)"
      ],
      "execution_count": null,
      "outputs": [
        {
          "output_type": "stream",
          "text": [
            "[10. 15.]\n"
          ],
          "name": "stdout"
        }
      ]
    },
    {
      "cell_type": "code",
      "metadata": {
        "id": "8VCNdyY6YyPT"
      },
      "source": [
        ""
      ],
      "execution_count": null,
      "outputs": []
    }
  ]
}